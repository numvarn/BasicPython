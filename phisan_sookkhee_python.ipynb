{
  "nbformat": 4,
  "nbformat_minor": 0,
  "metadata": {
    "colab": {
      "provenance": [],
      "toc_visible": true,
      "authorship_tag": "ABX9TyNWvZJNcsxXCCEGMTgbkhXI",
      "include_colab_link": true
    },
    "kernelspec": {
      "name": "python3",
      "display_name": "Python 3"
    },
    "language_info": {
      "name": "python"
    }
  },
  "cells": [
    {
      "cell_type": "markdown",
      "metadata": {
        "id": "view-in-github",
        "colab_type": "text"
      },
      "source": [
        "<a href=\"https://colab.research.google.com/github/numvarn/BasicPython/blob/main/phisan_sookkhee_python.ipynb\" target=\"_parent\"><img src=\"https://colab.research.google.com/assets/colab-badge.svg\" alt=\"Open In Colab\"/></a>"
      ]
    },
    {
      "cell_type": "markdown",
      "source": [
        "# การเขียนโปรแกรมด้วยภาษาไพธอน 3\n",
        "\n",
        "<pre>โดย\n",
        "ผู้ช่วยศาสตาราจารย์พิศาล สุขขี\n",
        "สาขาวิทยาการคอมพิวเตอร์,\n",
        "มหาวิทยาลัยราชภัฏศรีสะเกษ\n",
        "\n",
        "E-mail : phisan.s@sskru.ac.th, phisan.shukkhi@gmail.com\n",
        "Website : http://phisan.sskru.ac.th\n",
        "Facebook : www.facebook/numvarn\n",
        "Skype : phisan.shukkhi\n",
        "Mobile Phone: 084-915-2456\n",
        "</pre>"
      ],
      "metadata": {
        "id": "CK-tiyEIioU9"
      }
    },
    {
      "cell_type": "markdown",
      "source": [
        "# พื้นฐานโปรแกรมภาษาไพธอน\n"
      ],
      "metadata": {
        "id": "VC8fQCvhYJKb"
      }
    },
    {
      "cell_type": "markdown",
      "source": [
        "<hr>\n",
        "บทเรียนนี้จะอธิบายถึงพื้นฐานของโปรแกรมภาษาไพธอน ซึ่งประกอบไปด้วยไวยากรณ์โครงสร้างของโปรแกรม ข้อควรจำที่สำคัญในการใช้ไวยากรณ์ของภาษาไพธอน คำสั่งในการรับข้อมูลเข้าและการแสดผล\n",
        "\n",
        "เนื้อหาในบทเรียนนี้จะเป็นส่วนความรู้เบื้องต้นที่ทำให้สามารถเขียนโปรแกรมภาษาไพธอนอย่างง่ายได้ ตลอดจนวิธีการรันโปรแกรมที่เขียนด้วยภาษาไพธอน โดยใช้โปรแกรมแปลภาษาไพธอนทั้งในโหมดโต้ตอบและโหมดสคริปต์"
      ],
      "metadata": {
        "id": "84H7iC6wY19q"
      }
    },
    {
      "cell_type": "markdown",
      "source": [
        "## Identifiers\n"
      ],
      "metadata": {
        "id": "pYB7Sz85ZTdG"
      }
    },
    {
      "cell_type": "code",
      "source": [
        "# ชื่อคลาส\n",
        "class GetData:\n",
        "    pass\n",
        "\n",
        "# ชื่อฟังก์ชัน\n",
        "def getData():\n",
        "    pass\n",
        "\n",
        "def studentName():\n",
        "    pass\n",
        "\n",
        "# ชื่อตัวแปร\n",
        "data = 1\n",
        "student_name = \"Phisan Sookkhee\"\n",
        "my_input = 0\n",
        "my_input_number = 0"
      ],
      "metadata": {
        "id": "15vVDNhEYP7Y"
      },
      "execution_count": null,
      "outputs": []
    },
    {
      "cell_type": "markdown",
      "source": [
        "<pre>\n",
        "#ตัวแปร\n",
        "my_student\n",
        "\n",
        "#ฟังก์ชัน\n",
        "myStudent\n",
        "\n",
        "#คลาส\n",
        "MyStudent</pre>"
      ],
      "metadata": {
        "id": "olBwXtHTZzHM"
      }
    },
    {
      "cell_type": "markdown",
      "source": [
        "<pre>\n",
        "#คลาส\n",
        "PrintHelloWorld()\n",
        "\n",
        "#ฟังก์ชัน\n",
        "printHelloWorld()\n",
        "\n",
        "#ตัวแปร\n",
        "print_hello_world</pre>"
      ],
      "metadata": {
        "id": "SXb-T_KNZ_dS"
      }
    },
    {
      "cell_type": "markdown",
      "source": [
        "<hr>"
      ],
      "metadata": {
        "id": "yqCGRV2yh94V"
      }
    },
    {
      "cell_type": "markdown",
      "source": [
        "## บรรทัดและการเยื้องหน้า (Lines and Indentation)\n",
        "\n",
        "ไพธอนไม่ใช้วงเล็บการเพื่อบ่งบอกถึงบล็อกของโค้ดสำหรับนิยามคลาส และฟังก์ชัน\n",
        "\n",
        "หรือคำสั่งโครงสร้างควบคุม บล็อกของโค้ดจะแสดงด้วยการเว้นบรรทัดพร้อมเยื้องหน้า ซึ่งในภาษาไพธอนมีการบังคับใช้อย่างเข้มงวด\n",
        "\n",
        "จำนวนของการเว้นวรรคในการเยื้องหน้าสำหรับคำสั่งทั้งหมดภายในบล็อกจะต้องทำการเว้นวรรคด้วยจำนวนหรือขนาดที่เท่ากันทั้งหมด ตัวอย่างเช่น"
      ],
      "metadata": {
        "id": "rhyHdmipbKiv"
      }
    },
    {
      "cell_type": "code",
      "source": [
        "'''\n",
        "if(True) {\n",
        "    i = 1; x = 2;\n",
        "} else {\n",
        "    statement\n",
        "}\n",
        "'''\n",
        "\n",
        "if True:\n",
        "    print(\"Answer\")\n",
        "    print(\"True\")\n",
        "else:\n",
        "    print(\"Answer\")\n",
        "    print(\"False\")"
      ],
      "metadata": {
        "id": "BEmuKvdRay4l"
      },
      "execution_count": null,
      "outputs": []
    },
    {
      "cell_type": "code",
      "source": [
        "while True:\n",
        "    value = input(\"Please enter a value: \")\n",
        "    if value == \"quit\":\n",
        "        break\n",
        "    elif int(value) < 10:\n",
        "        print(\"Small\")\n",
        "    else:\n",
        "        print(value)"
      ],
      "metadata": {
        "id": "gBga7TIcZ0CT"
      },
      "execution_count": null,
      "outputs": []
    },
    {
      "cell_type": "markdown",
      "source": [
        "<hr>"
      ],
      "metadata": {
        "id": "AavrQSaNiAnr"
      }
    },
    {
      "cell_type": "markdown",
      "source": [
        "##การแสดงคําสั่งหลายบรรทัด (Multi-Line Statements)"
      ],
      "metadata": {
        "id": "cLFVGVh8cGrD"
      }
    },
    {
      "cell_type": "code",
      "source": [
        "total = 1 + 2 + 3\n",
        "\n",
        "print(total)"
      ],
      "metadata": {
        "id": "M5_QbjqKcCDv"
      },
      "execution_count": null,
      "outputs": []
    },
    {
      "cell_type": "code",
      "source": [
        "total = 1 + \\\n",
        "        2 + \\\n",
        "        3\n",
        "\n",
        "print(total)"
      ],
      "metadata": {
        "id": "XE5YOA0mcNVK"
      },
      "execution_count": null,
      "outputs": []
    },
    {
      "cell_type": "markdown",
      "source": [
        "<hr>"
      ],
      "metadata": {
        "id": "UeL2KfIEiEzU"
      }
    },
    {
      "cell_type": "markdown",
      "source": [
        "## การใช้เครื่องหมายคําพูดในภาษาไพธอน (Quotation in Python)"
      ],
      "metadata": {
        "id": "PGWpbdFGcQtg"
      }
    },
    {
      "cell_type": "code",
      "source": [
        "word = 'word'"
      ],
      "metadata": {
        "id": "cygHJjakcPvu"
      },
      "execution_count": null,
      "outputs": []
    },
    {
      "cell_type": "code",
      "source": [
        "sentence = \"This is a sentence.\""
      ],
      "metadata": {
        "id": "OZG6mjNNcX8I"
      },
      "execution_count": null,
      "outputs": []
    },
    {
      "cell_type": "code",
      "source": [
        "paragraph = \"\"\"This is a paragraph.\n",
        "\n",
        "It is made up of multiple lines and sentences.\"\"\""
      ],
      "metadata": {
        "id": "tWoNvek5cZag"
      },
      "execution_count": null,
      "outputs": []
    },
    {
      "cell_type": "code",
      "source": [
        "print(paragraph)"
      ],
      "metadata": {
        "id": "Ys_4I2NVca6D"
      },
      "execution_count": null,
      "outputs": []
    },
    {
      "cell_type": "markdown",
      "source": [
        "<hr>"
      ],
      "metadata": {
        "id": "T4Kqc5dziLIH"
      }
    },
    {
      "cell_type": "markdown",
      "source": [
        "## คําอธิบายโปรแกรม (Comment)"
      ],
      "metadata": {
        "id": "jFGxDojzcq05"
      }
    },
    {
      "cell_type": "code",
      "source": [
        "name = '''Phisan\n",
        "Sookkhee\n",
        "'''\n",
        "\n",
        "print(name)"
      ],
      "metadata": {
        "id": "rFH9ZgGUcsWr"
      },
      "execution_count": null,
      "outputs": []
    },
    {
      "cell_type": "code",
      "source": [
        "# This is line comment\n",
        "a = 10 # This is line comment"
      ],
      "metadata": {
        "id": "OLUGkJHqcuS6"
      },
      "execution_count": null,
      "outputs": []
    },
    {
      "cell_type": "code",
      "source": [
        "'''\n",
        "This is block comment that\n",
        "Convers two lines.\n",
        "'''\n",
        "\n",
        "a = 10\n",
        "print(a)"
      ],
      "metadata": {
        "id": "qBycc4mvcvzn"
      },
      "execution_count": null,
      "outputs": []
    },
    {
      "cell_type": "markdown",
      "source": [
        "<hr>"
      ],
      "metadata": {
        "id": "qlCsHSraiNR2"
      }
    },
    {
      "cell_type": "markdown",
      "source": [
        "## หลายคําสั่งภายในบรรทัดเดียว (Multiple Statements on a Single Line)\n",
        "\n",
        "ผู้เขียนโปรแกรมสามารถใชBเครื่องหมายเซมิโคลอน (“ ; ”) เพื่อคัดระหว่างคําสั่งที่อยู่ภายใน บรรทัดเดียวกันได้ ดังแสดงในตัวอย่าง"
      ],
      "metadata": {
        "id": "kSRvDQXcc0AL"
      }
    },
    {
      "cell_type": "code",
      "source": [
        "import sys; x = 'Python'; print(\"{} \\n\".format(x))"
      ],
      "metadata": {
        "id": "TqFJIb2Vcx5F"
      },
      "execution_count": null,
      "outputs": []
    },
    {
      "cell_type": "code",
      "source": [
        "import sys\n",
        "\n",
        "x = 'Python'\n",
        "\n",
        "print(\"{} \\n\".format(x))"
      ],
      "metadata": {
        "id": "DmfePbX5c558"
      },
      "execution_count": null,
      "outputs": []
    },
    {
      "cell_type": "markdown",
      "source": [
        "<hr>"
      ],
      "metadata": {
        "id": "w2HgLKSmiQ8s"
      }
    },
    {
      "cell_type": "markdown",
      "source": [
        "## บรรทัดว่าง (Blank lines)\n",
        "บรรทัดที่มีเพียงแค่ช่องว่างเพียงอย่างเดียว หรืออาจมีเพียงคำอธิบายโปรแกรม จะถูกเรียกว่าเป็นบรรทัดว่าง (Blank lines) และตัวแปลภาษาไพธอนจะไม่สนใจบรรทัดว่างเหล่านี้\n",
        "\n",
        "ในการเขียนโปรแกรมภายในโค้ดที่เราสร้างขึ้นจะสังเกตุเห็นว่า สามารถมีบรรทัดว่างได้ทั่วไปตลอดทั้งโค้ดโปรแกรม และในการแปลภาษาตัวแปรภาษาจะไม่นำบรรทัดว่างเหล่านี้ไปตีความ"
      ],
      "metadata": {
        "id": "f-DMxKLvc82X"
      }
    },
    {
      "cell_type": "code",
      "source": [
        "print(\"Hello world\")\n",
        "\n",
        "\n",
        "\n",
        "\n",
        "print(\"Hello, Phisan Sookkhee\")"
      ],
      "metadata": {
        "id": "tVJIGRpzddlN"
      },
      "execution_count": null,
      "outputs": []
    },
    {
      "cell_type": "markdown",
      "source": [
        "<hr>"
      ],
      "metadata": {
        "id": "qxuMn_59iSfd"
      }
    },
    {
      "cell_type": "markdown",
      "source": [
        "## การรับข้อมูลเข้าและการแสดงผล\n",
        "\n",
        "การรับข้อมูลจาก keyboard ด้วยฟังก์ชัน input()"
      ],
      "metadata": {
        "id": "Q0ckW2BvdTa2"
      }
    },
    {
      "cell_type": "code",
      "source": [
        "name = input(\"What's your name? \")\n",
        "\n",
        "print(\"Nice to meet you \" + name + \"!\")"
      ],
      "metadata": {
        "id": "tz2NoMzOc7fJ"
      },
      "execution_count": null,
      "outputs": []
    },
    {
      "cell_type": "code",
      "source": [
        "age = input(\"Your age? \")\n",
        "\n",
        "print(\"So, you are already \" + age +\" years old, \" + name + \"!\")"
      ],
      "metadata": {
        "id": "wt6sWv40d7jY"
      },
      "execution_count": null,
      "outputs": []
    },
    {
      "cell_type": "code",
      "source": [
        "number = input(\"Enter your number : \")\n",
        "\n",
        "result = int(number) - 2\n",
        "\n",
        "print(result)"
      ],
      "metadata": {
        "id": "U9ThH6l_dszB"
      },
      "execution_count": null,
      "outputs": []
    },
    {
      "cell_type": "markdown",
      "source": [
        "<hr>"
      ],
      "metadata": {
        "id": "3NESkZjkiT61"
      }
    },
    {
      "cell_type": "markdown",
      "source": [
        "## การแสดงผล\n",
        "\n",
        "การใช้ Formatters Formatters ทำงานโดยการใส่ฟิลด์ที่ใช้แทนข้อมูล หรือตัวยึดตำแหน่ง (Placeholder)\n",
        "\n",
        "อย่างน้อยหนึ่งฟิลด์ซึ่งถูกกำหนดโดยใช้วงเล็บปีกกา (“ { } ”) ลงในสตริงและเรียกใช้เมธอด format() ซึ่งทำการนำค่าที่เราต้องการไปทำการใส่เข้าไปในสตริง\n",
        "\n",
        "ค่านี้จะถูกส่งผ่านไปในตำแหน่งเดียวกับที่ตัวยึดตำแหน่งอยู่ในตำแหน่งที่กำหนดไว้เมื่อมีการเรียกใช้โปรแกรม ดังตัวอย่างด้านล่างนี้"
      ],
      "metadata": {
        "id": "BI0FlVhIeVWx"
      }
    },
    {
      "cell_type": "code",
      "source": [
        "msg = \"Phisan \" + \"Sookkhee \" + str(5)\n",
        "print(msg)"
      ],
      "metadata": {
        "id": "968PUkBneXmk"
      },
      "execution_count": null,
      "outputs": []
    },
    {
      "cell_type": "code",
      "source": [
        "number = 5\n",
        "\n",
        "msg = \"Sammy has \"+ str(number) +\" dogs\"\n",
        "print(msg)"
      ],
      "metadata": {
        "id": "uMCi6_naecka"
      },
      "execution_count": null,
      "outputs": []
    },
    {
      "cell_type": "code",
      "source": [
        "number = 5\n",
        "\n",
        "msg = \"Sammy has {} dogs\".format(number)\n",
        "print(msg)"
      ],
      "metadata": {
        "id": "-98iokraee3A"
      },
      "execution_count": null,
      "outputs": []
    },
    {
      "cell_type": "code",
      "source": [
        "cat = 10\n",
        "dog = 5\n",
        "\n",
        "msg = \"Sammy has {} dogs and {} cats\".format(dog, cat)\n",
        "print(msg)"
      ],
      "metadata": {
        "id": "qdWxKdZXeil1"
      },
      "execution_count": null,
      "outputs": []
    },
    {
      "cell_type": "code",
      "source": [
        "open_string = \"Sammy loves {}.\"\n",
        "print(open_string.format(\"open source\"))"
      ],
      "metadata": {
        "id": "4i5dSooeey76"
      },
      "execution_count": null,
      "outputs": []
    },
    {
      "cell_type": "code",
      "source": [
        "msg = \"Hello, my name is {} {}\"\n",
        "\n",
        "name = input(\"Enter name : \")\n",
        "lastname = input(\"Enter lastname : \")\n",
        "\n",
        "print(msg.format(name, lastname))"
      ],
      "metadata": {
        "id": "Taq6Uym0ey66"
      },
      "execution_count": null,
      "outputs": []
    },
    {
      "cell_type": "code",
      "source": [
        "msg = \"Sammy loves {}\".format(\"open source\")\n",
        "print(msg)"
      ],
      "metadata": {
        "id": "dNqbAKEbe4Fm"
      },
      "execution_count": null,
      "outputs": []
    },
    {
      "cell_type": "code",
      "source": [
        "\"\"\"\n",
        "การใช้ Formatters กับตัวยึดตำแหน่งหลายตัว\n",
        "เราสามารถใช้เครื่องหมายวงเล็บปีกกาหลายคู่เมื่อใช้ formatters ถ้าเราต้องการเพิ่มการแทนที่ตัวแปรอื่นในสตริง\n",
        "เราสามารถทำได้โดยการเพิ่มคู่วงเล็บปีกกาที่สอง และส่งค่าที่สองเข้าไปใน เมธอดโดยการคั่นด้วยเครื่องหมายจุลภาค (“ , ”)\n",
        "\"\"\"\n",
        "\n",
        "new_open_string = \"Sammy loves {} {}.\"\n",
        "print(new_open_string.format(\"open-source\", \"software\"))"
      ],
      "metadata": {
        "id": "NPF7fK-Ae46M"
      },
      "execution_count": null,
      "outputs": []
    },
    {
      "cell_type": "code",
      "source": [
        "\"\"\"\n",
        "จัดลำดับการแสดงผลด้วยอาร์กิวเมนต์ตำแหน่งและคำหลัก\n",
        "เมื่อเราใช้เครื่องหมายวงเล็บปีกกาโดยไม่มีพารามิเตอร์ใด ๆ ภายใน\n",
        "ไพธอนจะแทนที่ค่าที่โดยส่งผ่านเมธอด format() ตามลำดับ ตามที่เราได้เห็นแล้วจากตัวอย่างข้างต้นที่ผ่านมา โดยการสร้างแบบฟอร์มที่มีวงเล็บปีกกาสองวงที่ว่างเปล่ามีสองค่าที่ผ่านมาจะมีลักษณะดังนี้\n",
        "\"\"\"\n",
        "\n",
        "print(\"Sammy the {} has a pet {}!\".format(\"shark\", \"pilot fish\"))\n",
        "\n",
        "# หรือ\n",
        "print(\"Sammy the {1} has a pet {0}!\".format(\"shark\", \"pilot fish\"))\n",
        "\n",
        "\n",
        "# หรือ\n",
        "print(\"Sammy is a {3}, {2}, and {1} {0}!\".format(\"happy\",\n",
        "                                                 \"smiling\",\n",
        "                                                 \"blue\",\n",
        "                                                 \"shark\"))\n",
        "\n",
        "# หรือ\n",
        "print(\"Sammy the {s} {m} a {pr}.\".format(s=\"shark\",\n",
        "                                         m=\"made\",\n",
        "                                         pr=\"pull request\"))"
      ],
      "metadata": {
        "id": "rsza9rSqe7zC"
      },
      "execution_count": null,
      "outputs": []
    },
    {
      "cell_type": "markdown",
      "source": [
        "<hr>"
      ],
      "metadata": {
        "id": "usdjmGIiiWzV"
      }
    },
    {
      "cell_type": "markdown",
      "source": [
        "## การแสดงผลโดยใช้ตัวแปลงข้อมูล\n",
        "\n",
        "ภายในวงเล็บปีกกาที่เราใช้เป็นตัวยึดตำแหน่งภายในสตริงนั้น สามารถมีพารามิเตอร์ ได้มากกว่า 1 ตัว โดยเราจะใช้ไวยากรณ์แบบ {field_name:conversion} โดยที่ field_name จะระบุหมายเลขดัชนีของอาร์กิวเมนต์จากเมธอด format() ที่เราดำเนินการในส่วนการจัดเรียงลำดับ และ conversion หมายถึงรหัสการแปลงรูปแบบของข้อมูลที่เราใช้กับตัวจัดรูปแบบ\n",
        "\n",
        "ประเภทการแปลงรูปแบบหมายถึงรหัสอักขระเดี่ยวที่ภาษาไพธอนใช้ โดยจะใช้ s เป็นรหัสสำหรับสตริง และ d เพื่อแสดงจำนวนเต็มทศนิยม (10 ฐาน) และ f ซึ่งเราจะใช้เพื่อแสดงทศนิยมที่มีจุดทศนิยม เป็นต้น โดยตัวอย่างต่อไปนี้เป็นตัวอย่างที่เราจะทำการส่งค่าจำนวนเต็มผ่านเมธอด เพื่อต้องการแสดงผลเป็นจำนวนจริง หรือ float ซึ่งทำได้โดยการเพิ่มอาร์กิวเมนต์ประเภท Conversion f เข้าไปในตัวยึดตำแหน่งภายในสตริง"
      ],
      "metadata": {
        "id": "RElWvFQEfKrz"
      }
    },
    {
      "cell_type": "code",
      "source": [
        "pi = 3.145456678893837\n",
        "print(\"pi : {0:.3f}\".format(pi))"
      ],
      "metadata": {
        "id": "P6dz86oVe-Ii"
      },
      "execution_count": null,
      "outputs": []
    },
    {
      "cell_type": "code",
      "source": [
        "print(\"Sammy ate {0:f} percent of a {1}!\".format(75, \"pizza\"))\n",
        "\n",
        "print(\"Sammy ate {0:.2f} percent of a {1}!\".format(75, \"pizza\"))\n",
        "\n",
        "print(\"Sammy ate {0:.0f} percent of a {1}!\".format(75.0789, \"pizza\"))"
      ],
      "metadata": {
        "id": "rpPi2X_nfRPL"
      },
      "execution_count": null,
      "outputs": []
    },
    {
      "cell_type": "markdown",
      "source": [
        "<hr>"
      ],
      "metadata": {
        "id": "JoX8AUg1iZVg"
      }
    },
    {
      "cell_type": "markdown",
      "source": [
        "## การกำหนดขนาดของฟิลด์"
      ],
      "metadata": {
        "id": "NFSeD-ihfb8R"
      }
    },
    {
      "cell_type": "code",
      "source": [
        "print(\"Sammy has {0:8} red {1:16}!\".format(5, \"balloons\"))"
      ],
      "metadata": {
        "id": "O0BpDJmlfTad"
      },
      "execution_count": null,
      "outputs": []
    },
    {
      "cell_type": "code",
      "source": [
        "print(\"Sammy has {0:^8.2f} red {1:>16}!\".format(5, \"balloons\"))"
      ],
      "metadata": {
        "id": "YQueHCwefha7"
      },
      "execution_count": null,
      "outputs": []
    },
    {
      "cell_type": "code",
      "source": [
        "# < ชิดซ้าย\n",
        "# > ชิดขวา\n",
        "# ^ กึ่งกลาง\n",
        "print(\"Sammy has {0:<4} red {1:>16}!\".format(5, \"balloons\"))"
      ],
      "metadata": {
        "id": "CXGIlJsAfjN6"
      },
      "execution_count": null,
      "outputs": []
    },
    {
      "cell_type": "code",
      "source": [
        "\"\"\"\n",
        "โดยค่าเริ่มต้นเมื่อเราสร้างฟิลด์ขนาดใหญ่ขึ้นด้วย formatters ไพธอนจะเติมฟิลด์ด้วยอักขระเว้นวรรค\n",
        "แต่เราสามารถปรับเปลี่ยนจากอักขระเว้นวรรคให้เป็นอักขระอื่น ๆ ตามที่เราต้องการได้\n",
        "โดยใส่อักขระที่เราต้องการไว้หลังเครื่องหมายโคลอน (“ : ”) ดังตัวอย่าง\n",
        "\"\"\"\n",
        "\n",
        "print(\"{0:_^20s}\".format(\"Sammy\"))"
      ],
      "metadata": {
        "id": "BXru9bFeflA1"
      },
      "execution_count": null,
      "outputs": []
    },
    {
      "cell_type": "markdown",
      "source": [
        "<hr>"
      ],
      "metadata": {
        "id": "nR5FvsuPiath"
      }
    },
    {
      "cell_type": "markdown",
      "source": [
        "## แบบฝึกหัด\n",
        "\n",
        "เรื่องพื้นฐานโปรแกรมภาษาไพธอน"
      ],
      "metadata": {
        "id": "zQrPgD_AgKdu"
      }
    },
    {
      "cell_type": "markdown",
      "source": [
        "1. จงเขียนโปรแกรมไพธอนเพื่อรับข้อมูล ที่เป็นชื่อผู้ใช้งานจากแป้นพิมพ์และแสดงออกทางหน้าจอ"
      ],
      "metadata": {
        "id": "-OQZLtI_gY5K"
      }
    },
    {
      "cell_type": "code",
      "source": [
        "# พิมพ์โค้ดโปรแกรมด้านล่างนี้\n",
        "\n"
      ],
      "metadata": {
        "id": "r0clwQFwfmcX"
      },
      "execution_count": null,
      "outputs": []
    },
    {
      "cell_type": "markdown",
      "source": [
        "2. จงเขียนโปรแกรมเพื่อแสดงค่าของ pi คือ 3.14159 ออกทางหน้าจอโดยทำการกำหนดรูปแบบในการแสดงผล\n",
        "\n",
        "ดังต่อไปนี้\n",
        "<pre>pi = 3\n",
        "pi = 3.14\n",
        "pi = 3.1416</pre>"
      ],
      "metadata": {
        "id": "iyObsoaKgfuW"
      }
    },
    {
      "cell_type": "code",
      "source": [
        "# พิมพ์โค้ดโปรแกรมด้านล่างนี้\n",
        "\n"
      ],
      "metadata": {
        "id": "_Irl4t2bgerU"
      },
      "execution_count": null,
      "outputs": []
    },
    {
      "cell_type": "markdown",
      "source": [
        "3. จงเขียนโปรแกรมที่แสดงคำว่า \"dog\", \"cat\", \"bat\" ออกทางหน้าจอ โดยกำหนดรูปแบบในการแสดงดังต่อไปนี้"
      ],
      "metadata": {
        "id": "aw1YJTMWg1tr"
      }
    },
    {
      "cell_type": "markdown",
      "source": [
        "\n",
        "\n",
        "```\n",
        "|dog       |   cat    |       bat|\n",
        "```\n",
        "\n"
      ],
      "metadata": {
        "id": "_a9Alhi2g9nT"
      }
    },
    {
      "cell_type": "code",
      "source": [
        "# พิมพ์โค้ดโปรแกรมด้านล่างนี้\n",
        "\n"
      ],
      "metadata": {
        "id": "PMGd8glPhCpl"
      },
      "execution_count": null,
      "outputs": []
    },
    {
      "cell_type": "markdown",
      "source": [
        "4. จงเขียนโปรแกรมที่แสดงคำว่า \"dog\", \"cat\", \"bat\" ออกทางหน้าจอ โดยกำหนดรูปแบบในการแสดงดังต่อไปนี้"
      ],
      "metadata": {
        "id": "0af-yEnEhLz3"
      }
    },
    {
      "cell_type": "markdown",
      "source": [
        "\n",
        "\n",
        "```\n",
        "|dog*******|***cat****|*******bat|\n",
        "```\n",
        "\n"
      ],
      "metadata": {
        "id": "n6a1mFzhhRuW"
      }
    },
    {
      "cell_type": "code",
      "source": [
        "# พิมพ์โค้ดโปรแกรมด้านล่างนี้\n",
        "\n"
      ],
      "metadata": {
        "id": "-In8BBsthd_h"
      },
      "execution_count": null,
      "outputs": []
    },
    {
      "cell_type": "markdown",
      "source": [
        "<hr>"
      ],
      "metadata": {
        "id": "cYKfecVPgfHA"
      }
    },
    {
      "cell_type": "markdown",
      "source": [
        "# ตัวแปรและประเภทข้อมูล\n",
        "\n",
        "\n",
        "\n",
        "<pre>\n",
        "หน่วยการเรียนนี้ ผู้เรียนจะได้เรียนรู้เกี่ยวกับตัวแปรและประข้อมูลในภาษา Python\n",
        "\n",
        "เนื้อหาประกอบไปด้วย\n",
        "1. ตัวแปรและการประกาศค่า\n",
        "2. การตั้งชื่อตัวแปรในภาษาไพธอน\n",
        "3. การกำหนดค่าให้กับตัวแปร\n",
        "4. ชนิดข้อมูลพื้นฐาน\n",
        "  a. ตัวเลข\n",
        "  b. สตริง\n",
        "5. ชนิดข้อมูลเชิงประกอบ\n",
        "  a. ลิสต์\n",
        "  b. ทัพเพิล\n",
        "  c. ดึกชันนารี\n",
        "  d. เซต\n",
        "</pre>\n",
        "\n"
      ],
      "metadata": {
        "id": "ly8YDhXXjYgg"
      }
    },
    {
      "cell_type": "markdown",
      "source": [
        "## ตัวแปร และการประกาศค่า\n",
        "\n",
        "**ตัวแปร (Variable)** คือ ชื่อ หรือเครื่องหมายที่ถูกกำหนดขึ้นสำหรับใช้อ้างอิงถึงข้อมูลที่ถูกจัดเก็บเอาไว้ในหน่วยความจำ\n",
        "\n",
        "**ตัวแปรจะมีชื่อ (Identifier)** สำหรับใช้ในการอ้างถึงข้อมูล ในการเขียนโปรแกรม ค่าของตัวแปรสามารถที่จะกำหนดได้ใน Run-Time หรือเปลี่ยนแปลงอยู่ตลอดเวลาในขณะที่โปรแกรมทำงาน (Executing)\n",
        "\n",
        "และเพื่อความสะดวกในการนำเอาค่าข้อมูลที่จัดเก็บไว้ในหน่วยความจำเพื่อการประมวลผลภายในโปรแกรม โดยการอ้างอิงผ่านตัวแปรนั้น ป้ายชื่อที่เราใช้เรียกตัวแปรภายในโปรแกรมนั้น ควรเป็นชื่อที่สื่อความหมายซึ่จะทำให้ทั้งโปรแกรมและผู้ผ่าน รวมทั้งตัวผู้พัฒนาโปรแกรมเองสามารถเข้าใจได้ง่าย\n",
        "\n",
        "ในการเขียนโปรแกรมคอมพิวเตอร์ ตัวแปรจะแตกต่างจากตัวแปรในทางคณิตศาสตร์ ค่าของตัวแปรนั้นไม่จำเป็นต้องประกอบไปด้วยสูตรหรือสมการที่สมบูรณ์เหมือนกับในคณิตศาสตร์\n",
        "\n",
        "และในคอมพิวเตอร์นั้น ตัวแปรอาจจะมีการทำงานซ้ำ ๆ เช่น การกำหนดค่าในที่หนึ่ง และนำไปใช้อีกที่หนึ่งในโปรแกรม และนอกจากนี้ยังสามารถกำหนดค่าใหม่ให้กับตัวแปรได้ตลอดเวลา"
      ],
      "metadata": {
        "id": "bqgXr1jckoyX"
      }
    },
    {
      "cell_type": "markdown",
      "source": [
        "<hr>"
      ],
      "metadata": {
        "id": "5G_oOCOolxmB"
      }
    },
    {
      "cell_type": "markdown",
      "source": [
        "## การประกาศค่าตัวแปร\n",
        "\n",
        "การประกาศค่าตัวแปรในภาษาไพธอนสามารถทำได้โดยการใช้นิพจน์เพื่อกำหนดค่าให้แก่ตัวแปรโดยใช้เครื่องหมายเท่ากับ (=) ซึ่งไม่จำเป็นต้องมีการระบุ หรือประกาศว่าที่แปรที่เราสร้างขึ้นมีชนิดข้อมูลเป็นชนิดใด ซึ่งตัวแปรจะมีชนิดข้อมูลแปรผันตามค่าของข้อมูลที่เรากำหนดให้ ดังตัวอย่าง"
      ],
      "metadata": {
        "id": "Oqjzh1-Ckow5"
      }
    },
    {
      "cell_type": "code",
      "source": [
        "a = 3\n",
        "b = 4.92\n",
        "c = \"marcuscode.com\"\n",
        "c = 10.5"
      ],
      "metadata": {
        "id": "_jPZISpyicWY"
      },
      "execution_count": null,
      "outputs": []
    },
    {
      "cell_type": "markdown",
      "source": [
        "การประกาศตัวแปรในภาษา Python นั้นไม่จำเป็นต้องระบุประเภทของตัวแปรในตอนที่ประกาศเหมือนในภาษา C หรือ Java\n",
        "\n",
        "* ในตัวแปร a มีค่าเป็น 3 และเป็นประเภทเป็น Integer\n",
        "\n",
        "* ตัวแปร b มีค่าเป็น 4.92\n",
        "* และเป็นประเภทเป็น Float\n",
        "และตัวแปร c มีค่าเป็น \"marcuscode.com\" และเป็นประเภท String\n",
        "\n",
        "และในภายหลังเราได้เปลี่ยนค่าของตัวแปร c เป็น 10.5 ทำให้ตัวแปร c มีชนิดข้อมูลกลายเป็นประเภท Float"
      ],
      "metadata": {
        "id": "K_E79ByFlSjF"
      }
    },
    {
      "cell_type": "markdown",
      "source": [
        "<hr>"
      ],
      "metadata": {
        "id": "_GY3v6vilz2K"
      }
    },
    {
      "cell_type": "markdown",
      "source": [
        "## กำหนดค่าให้กับหลายตัวแปร (Multiple Assignment)\n",
        "\n",
        "ในภาษา Python สนับสนุนการกำหนดค่าให้กับหลายตัวแปร (Multiple Assignment) ในคำสั่งเดียวในตัวอย่างด้านล่าง เป็นการกำหนดค่า 1 และ 2 กับตัวแปร a และ b ตามลำดับ\n",
        "\n",
        "และในคำสั่งต่อมาเป็นการกำหนดค่า 10 ให้กับตัวแปร x y และ z ซึ่งทำให้การเขียนโปรแกรมสะดวกและรวดเร็วมากขึ้น\n",
        "\n",
        "โดยผลของการกำหนดค่าของตัวแปรด้านบน เป็นดังนี้"
      ],
      "metadata": {
        "id": "roP2SJsbloV5"
      }
    },
    {
      "cell_type": "code",
      "source": [
        "a, b, c = 1, 2, 3\n",
        "x = y = z = 10"
      ],
      "metadata": {
        "id": "7xDf2B1clipl"
      },
      "execution_count": null,
      "outputs": []
    },
    {
      "cell_type": "code",
      "source": [
        "print(\"a = \" , a)\n",
        "print(\"b = \" , b)\n",
        "print(\"c = \" , c)\n",
        "print(\"x = \" , x)\n",
        "print(\"y = \" , y)\n",
        "print(\"z = \" , z)"
      ],
      "metadata": {
        "id": "ppLuLvTgl39G"
      },
      "execution_count": null,
      "outputs": []
    },
    {
      "cell_type": "code",
      "source": [
        "# การกำหนดค่าเริ่มต้นให้ ตัวแปร\n",
        "\n",
        "x1 = x2 = x3 = x4 = x5 = x6 = x7 = x8 = x9 = x10 = 20\n",
        "\n",
        "print(x3)"
      ],
      "metadata": {
        "id": "fuHiWL_Nl374"
      },
      "execution_count": null,
      "outputs": []
    },
    {
      "cell_type": "markdown",
      "source": [
        "การประยุกต์การกำหนดค่าให้หลายตัวแปร\n",
        "ตัวอย่างของการกำหนดค่าให้หลายตัวแปรที่มีในภาษาไพธอน นั้นสามารถนำมาประยุกต์ใช้ในการเรื่องของการสลับค่าระหว่างตัวแปร\n",
        "ซึ่งจะทำให้การดำเนินการรวดเร็วขึ้น โปรแกรมมีความกระชับขึ้น"
      ],
      "metadata": {
        "id": "ujphSc75l-f2"
      }
    },
    {
      "cell_type": "code",
      "source": [
        "a = 10\n",
        "b = 20\n",
        "tmp = a\n",
        "a = b\n",
        "b = tmp\n",
        "\n",
        "print(a)\n",
        "print(b)"
      ],
      "metadata": {
        "id": "gUUjZ_Q-mFPQ"
      },
      "execution_count": null,
      "outputs": []
    },
    {
      "cell_type": "code",
      "source": [
        "a = 10\n",
        "b = 20\n",
        "\n",
        "a, b = b, a\n",
        "\n",
        "print(a)\n",
        "print(b)"
      ],
      "metadata": {
        "id": "JWb5sJ1el73S"
      },
      "execution_count": null,
      "outputs": []
    },
    {
      "cell_type": "code",
      "source": [
        "lt = [1, 2, 3, 4, 5, 6]\n",
        "\n",
        "# a, b = b, a\n",
        "lt[0], lt[-1] = lt[-1], lt[0]\n",
        "\n",
        "print(lt)"
      ],
      "metadata": {
        "id": "reDp3al3mNAa"
      },
      "execution_count": null,
      "outputs": []
    },
    {
      "cell_type": "markdown",
      "source": [
        "<hr>"
      ],
      "metadata": {
        "id": "B5fTsK7PmYDQ"
      }
    },
    {
      "cell_type": "markdown",
      "source": [
        "## การตั้งชื่อตัวแปรในภาษาไพธอน\n",
        "\n",
        "ไพทอนไม่จำเป็นต้องประกาศตัวแปรก่อนใช้งาน สามารถกำหนดค่าขึ้นมา และเรียกใช้ได้เลย แต่การตัวชื่อตัวแปรของ ไพทอนต้องเป็นไปตามกฏดังนี้\n",
        "\n",
        "1. ต้องขึ้นต้นด้วยตัวอักษร\n",
        "2. ห้ามใช้ตัวเลขหรือสัญลักษณ์ใดๆ\n",
        "3. ห้ามมีช่องว่างหรือเว้นวรรค\n",
        "ห้ามใช้เครื่องหมายต่อไปนี้ในการประกาศตัวแปร !...@...#...$...%...^...&...*...(...)...-...=...+...~\n",
        "4. ควรตั้งชื่อตัวแปรที่สื่อความหมายให้ชัดเจน เพื่อผู้อื่นตีความหมายได้เข้าใจ แต่ถ้ามีความหมายยาวมาก ให้ย่อ เช่น student_name ควรใช้ st_name เป็นต้น\n",
        "5. ตัวแปรที่มีตัวพิมพ์ใหญ่และตัวพิมพ์เล็กผสมกันจะมีความหมายต่างกับตัวพิมพ์เล็กเพียงอย่างเดียว เช่น St_Id แตกต่างจากตัวแปร st_id เป็นต้น"
      ],
      "metadata": {
        "id": "YWnCyNb_md5r"
      }
    },
    {
      "cell_type": "markdown",
      "source": [
        "## คำสงวน ในภาษาไพทอน\n",
        "คำสงวน คือชื่อหรือคำที่ภาษา Python (ไพทอน) ไว้ใช้เฉพาะเพื่อเป็นคำสั่ง หรือมีไว้เพื่อเขียนเป็นโครงสร้างของตัวภาษาเอง โดยคำสงวนของ Python จะมีทั้งหมด 31 คำ ดังนี้\n",
        "\n",
        "and, as, assert, break, class, continue, def, del, elif, else, except, exec, finally, for, from, global, if, import, in, is, lambda, not, or, pass, print, raise, return, try, while, with, yield"
      ],
      "metadata": {
        "id": "v23lpbHdmwSb"
      }
    },
    {
      "cell_type": "markdown",
      "source": [
        "<hr>"
      ],
      "metadata": {
        "id": "ATte2E5Pm8W6"
      }
    },
    {
      "cell_type": "markdown",
      "source": [
        "## Numbers\n",
        "ไพทอนรองรับข้อมูลชนิดตัวเลขทั้ง 4 ชนิดดังนี้\n",
        "\n",
        "**int (signed integers)** − เรามักเรียกข้อมูลประเภทนี้ว่า จำนวนเต็ม (Integer), ซึ่งเป็นได้ทั้งตัวเลขจำนวนเต็มบวก หรือเต็มลบก็ได้ ในระบบเลขฐาน 10.\n",
        "\n",
        "**long (long integers)** − เป็นข้อมูลจำนวนเต็มที่ไม่ได้จำกัดขนาด แต่จะเขียนตามด้วยตัว L ตัวเล็กหรือตัวใหญ่ก็ได้.\n",
        "\n",
        "**float (floating point real values)** − เป็นข้อมูลตัวเลขประเภทจำนวนจริง ซึ่งจะเรียนในรูปแบบตัวเลขทศนิยม และ Floats อาจใช้เขียนในรูปแบบสัญลักษณ์ทางวิทยาศาสตร์ ซึ่งใช้ E หรือ e ในการแทนเลขยกกำลัง 10 (2.5e2 = 2.5 x 102 = 250).\n",
        "\n",
        "**complex (complex numbers)** − คือข้อมูลที่ถูกเขียนในรูปของ a + bJ, โดย a และ b คือจำนวนจริง และ J คือค่ารากที่สองของ -1 โดย Complex numbers ไม่ค่อยได้ถูกใช้ในการเขียนโปรแกรมในภาษาไพทอน\n",
        "\n",
        "หมายเหตุ ใน Python 3 ข้อมูลชนิด long ถูกตัดออกไป"
      ],
      "metadata": {
        "id": "OAUoqWdFm_zh"
      }
    },
    {
      "cell_type": "code",
      "source": [
        "## Integer\n",
        "print(type(10))\n",
        "\n",
        "# Float\n",
        "print(type(15.20))\n",
        "\n",
        "# Complex\n",
        "print(type(9.322e-36j))"
      ],
      "metadata": {
        "id": "PR8FzuUzmR-V"
      },
      "execution_count": null,
      "outputs": []
    },
    {
      "cell_type": "markdown",
      "source": [
        "### การแปลงข้อมูลตัวเลข\n",
        "\n",
        "1. **int(x)** เป็นการแปลง x ให้อยู่ในรูปแบบจำนวนเต็ม.\n",
        "\n",
        "2. **float(x)** เป็นการแปลง x ให้อยู่ในรูปแบบจำนวนจริง (เลขทศนิยม).\n",
        "\n",
        "3. **complex(x)** เป็นการแปลง x เป็นจำนวนเชิงซ้อนกับส่วนจริง x และศูนย์ส่วนจินตภาพ.\n",
        "\n",
        "4. **complex(x, y)** เป็นการแปลง x และ y เป็นจำนวนเชิงซ้อนกับส่วนจริง x และ y ส่วนจินตภาพ x และ y เป็นนิพจน์ตัวเลข."
      ],
      "metadata": {
        "id": "GbEXpiUonUVZ"
      }
    },
    {
      "cell_type": "code",
      "source": [
        "x = 10.8\n",
        "int(x)"
      ],
      "metadata": {
        "id": "CnUv04ZqnoIn"
      },
      "execution_count": null,
      "outputs": []
    },
    {
      "cell_type": "code",
      "source": [
        "x = 2.58\n",
        "int(x)"
      ],
      "metadata": {
        "id": "YDyjVUpjnpxm"
      },
      "execution_count": null,
      "outputs": []
    },
    {
      "cell_type": "code",
      "source": [
        "x = 10\n",
        "complex(x)"
      ],
      "metadata": {
        "id": "SDznQ1zhnsEO"
      },
      "execution_count": null,
      "outputs": []
    },
    {
      "cell_type": "code",
      "source": [
        "x = 10\n",
        "complex(x, 2)"
      ],
      "metadata": {
        "id": "qYWMucNWnv93"
      },
      "execution_count": null,
      "outputs": []
    },
    {
      "cell_type": "markdown",
      "source": [
        "### ฟังก์ชันทางคณิตศาสตร์"
      ],
      "metadata": {
        "id": "666f2XBgoFip"
      }
    },
    {
      "cell_type": "markdown",
      "source": [
        "abs(x)\n",
        "\n",
        "ค่าสัมบูรณ์ของ x: ระยะทาง (บวก) ระหว่าง x และศูนย์"
      ],
      "metadata": {
        "id": "Hy8ryqvuoKBS"
      }
    },
    {
      "cell_type": "code",
      "source": [
        "abs(-10)"
      ],
      "metadata": {
        "id": "xWRv0cVqnP3f"
      },
      "execution_count": null,
      "outputs": []
    },
    {
      "cell_type": "code",
      "source": [
        "import math"
      ],
      "metadata": {
        "id": "OFzctTA7oPRO"
      },
      "execution_count": null,
      "outputs": []
    },
    {
      "cell_type": "markdown",
      "source": [
        "**math.log(x)**\n",
        "\n",
        "The natural logarithm of x, for x > 0."
      ],
      "metadata": {
        "id": "bFY59ic9oSiH"
      }
    },
    {
      "cell_type": "code",
      "source": [
        "math.log(10)"
      ],
      "metadata": {
        "id": "kIj1_FewoRLm"
      },
      "execution_count": null,
      "outputs": []
    },
    {
      "cell_type": "markdown",
      "source": [
        "**math.log10(x)**\n",
        "\n",
        "The base-10 logarithm of x for x > 0."
      ],
      "metadata": {
        "id": "DJSf5txeoXok"
      }
    },
    {
      "cell_type": "code",
      "source": [
        "math.log10(10)"
      ],
      "metadata": {
        "id": "quBiEEtboeob"
      },
      "execution_count": null,
      "outputs": []
    },
    {
      "cell_type": "markdown",
      "source": [
        "**math.sqrt(x)**\n",
        "\n",
        "The square root of x for x > 0."
      ],
      "metadata": {
        "id": "N85M4cKZoiRR"
      }
    },
    {
      "cell_type": "code",
      "source": [
        "math.sqrt(2)"
      ],
      "metadata": {
        "id": "rNqSUoNXonGs"
      },
      "execution_count": null,
      "outputs": []
    },
    {
      "cell_type": "markdown",
      "source": [
        "**Power of number**"
      ],
      "metadata": {
        "id": "jRzfhZaloiPG"
      }
    },
    {
      "cell_type": "code",
      "source": [
        "3**2"
      ],
      "metadata": {
        "id": "WxAf2qtKosr9"
      },
      "execution_count": null,
      "outputs": []
    },
    {
      "cell_type": "markdown",
      "source": [
        "<hr>"
      ],
      "metadata": {
        "id": "kwYwwN8Aoxef"
      }
    },
    {
      "cell_type": "markdown",
      "source": [
        "## Strings\n",
        "\n",
        "สตริง หรือข้อมูลประเภทลำดับของอักขระ เป็นข้อมูลอีกประเภทที่นิยมใช้มากในภาษาไพธอน โดยที่เราสามารถสร้างได้ง่าย ๆ โดยการใส่ตัวอักษร หรือข้อความไว้ภายในในเครื่องหมายคำพูด (' ' หรือ \" \") การสร้างข้อมูลประเภทสตริงสามารถทำได้โดยการกำหนดค่าให้กับตัวแปร ตัวอย่างเช่น -"
      ],
      "metadata": {
        "id": "Rx85gkxSo4oU"
      }
    },
    {
      "cell_type": "markdown",
      "source": [
        "### การสร้างสตริงในภาษาไพธอน\n",
        "\n",
        "สตริงที่สามารถสร้างขึ้นได้โดยใส่ตัวอักษรไว้ภายในเครื่องหมายคำพูดเดี่ยว ('..') หรือเครื่องหมายคำพูดคู่ (\"..\") และคำพูดสาม (\"\"\"..\"\"\") สามารถใช้ในไพธอน แต่โดยทั่วไปใช้เพื่อแสดงสายอักขระแบบหลายบรรทัด"
      ],
      "metadata": {
        "id": "5kmlMQ5gpJzJ"
      }
    },
    {
      "cell_type": "code",
      "source": [
        "# การกำหนดค่าให้กับตัวแปรที่มีชนิดข้อมูลเป็นสตริง\n",
        "my_string = 'Hello'\n",
        "print(my_string)\n",
        "\n",
        "my_string = \"Hello\"\n",
        "print(my_string)\n",
        "\n",
        "my_string = '''Hello'''\n",
        "print(my_string)\n",
        "\n",
        "# triple quotes string สามารถใช้สำหรับการแสดงสตริงในหลายบรรทัด\n",
        "my_string = \"\"\"Hello, welcome to\n",
        "           the world of Python\"\"\"\n",
        "print(my_string)"
      ],
      "metadata": {
        "id": "BHmJmWmWovLN"
      },
      "execution_count": null,
      "outputs": []
    },
    {
      "cell_type": "markdown",
      "source": [
        "### การเข้าถึงอักขระในสตริง\n",
        "\n",
        "ภาษาไพธอนนั้นไม่สนับสนุนข้อมูลประเภทอักขระ (Character) โดยจะถือว่าข้อมูลอักขระแต่ละตัวนั้นถือว่าเป็นสตริงที่มีขนาดความยาวเท่ากับ 1 โดยในการเข้าถึงอักขระแต่ละตัวภายในสติงนั้นให้ใช้วงเล็บเหลี่ยม ( [ ] ) สำหรับการหั่น (Slide) ตามดัชนีหรือดัชนีการเข้าถึงอักขระภายในสตริง ตัวอย่างเช่น -"
      ],
      "metadata": {
        "id": "r1U1K4qBpW5J"
      }
    },
    {
      "cell_type": "code",
      "source": [
        "str = 'Hello World!'\n",
        "\n",
        "print (str)          # พิมพ์สตริงตั้งหมด\n",
        "print (str[0])       # พิมพ์อักขระลำดับแรกของสตริง\n",
        "print (str[2:5])     # พิมพ์อักขระลำดับที่ 3 ถึงลำดับที่ 5 ภายในสตริง\n",
        "print (str[2:])      # พิมพ์อักขระลำดับที่ 3 จนถึงลำดับสุดท้ายภายในสตริง\n",
        "print (str * 2)      # พิมพ์สตริง จำนวน 2 ครั้ง\n",
        "print (str + \"TEST\") # พิมพ์สตริงโดยรวมสายอักขระเข้าด้วยกัน"
      ],
      "metadata": {
        "id": "9F_BqNhUpR7P"
      },
      "execution_count": null,
      "outputs": []
    },
    {
      "cell_type": "markdown",
      "source": [
        "### การปรับปรุงสตริง\n",
        "\n",
        "เราสามารถ \"ปรับปรุง\" สตริงที่มีอยู่โดย (อีกครั้ง) การกำหนดตัวแปรให้กับสตริงอื่น ค่าใหม่อาจเกี่ยวข้องกับค่าก่อนหน้านี้หรือเป็นสตริงที่แตกต่างกันโดยสิ้นเชิง ตัวอย่างเช่น -"
      ],
      "metadata": {
        "id": "FvaOYsd5pe17"
      }
    },
    {
      "cell_type": "code",
      "source": [
        "var = 'Hello World!'\n",
        "print(\"Updated String :- \", var[:6] + 'Python')"
      ],
      "metadata": {
        "id": "dzafeFnypjDQ"
      },
      "execution_count": null,
      "outputs": []
    },
    {
      "cell_type": "code",
      "source": [
        "str = \"Computer Science\"\n",
        "\n",
        "print(str[:8] + ' Today')"
      ],
      "metadata": {
        "id": "2TlW4FVTpm7_"
      },
      "execution_count": null,
      "outputs": []
    },
    {
      "cell_type": "code",
      "source": [
        "print(str[9:] + ' Today')"
      ],
      "metadata": {
        "id": "A1puDUW3pol4"
      },
      "execution_count": null,
      "outputs": []
    },
    {
      "cell_type": "code",
      "source": [
        "str = \"Computer Science\"\n",
        "\n",
        "print(str[:8]+\" Today \"+str[9:])"
      ],
      "metadata": {
        "id": "7MZNU7Sypr4d"
      },
      "execution_count": null,
      "outputs": []
    },
    {
      "cell_type": "markdown",
      "source": [
        "### การดำเนินการสตริง\n",
        "\n",
        "ข้อมูลประเภทสตริงนั้นสามารถมีการดำเนินการที่หลากหลาย ดังนี้\n",
        "\n",
        "การรวมสองหรือมากกว่าสตริง\n",
        "การรวมสตริงตั้งแต่สอง หรือมากกว่านั้นเข้าเป็นหนึ่งเดียวเรียกว่าการ concatenation\n",
        "\n",
        "โดยใช้ตัวดำเนินการบวก ( + ) เพียงแค่เขียนนำสตริงสองตัวดำเนิการเข้าด้วยกันก็จะถูกเชื่อมต่อกัน\n",
        "\n",
        "และโอเปอเรเตอร์คูณ ( * ) สามารถใช้เพื่อทำซ้ำสตริงได้หลายครั้ง"
      ],
      "metadata": {
        "id": "6M6Qw3H7pt0u"
      }
    },
    {
      "cell_type": "code",
      "source": [
        "str1 = 'Hello'\n",
        "str2 ='World!'\n",
        "\n",
        "# using +\n",
        "print('str1 + str2 = ', str1 + str2)\n",
        "\n",
        "# using *\n",
        "print('str1 * 3 =', str1 * 3)"
      ],
      "metadata": {
        "id": "meI2NrE7pzLg"
      },
      "execution_count": null,
      "outputs": []
    },
    {
      "cell_type": "markdown",
      "source": [
        "หรือถ้าเราต้องการต่อสตริงต่าง ๆ ที่มีหลายบรรทัด เราสามารถใช้วงเล็บในการดำเนินการได้"
      ],
      "metadata": {
        "id": "_pEeBXJDp4e0"
      }
    },
    {
      "cell_type": "code",
      "source": [
        "# using parentheses\n",
        "s = ('Hello '\n",
        "     'World')\n",
        "\n",
        "print(s)"
      ],
      "metadata": {
        "id": "lz8Y6-uWp2Rb"
      },
      "execution_count": null,
      "outputs": []
    },
    {
      "cell_type": "markdown",
      "source": [
        "### การวนซ้ำบนสตริง\n",
        "\n",
        "เราสามารถใช้การทำซ้ำผ่านสตริง จากตัวอย่างด้านล่างเป็นการวนซ้ำเพื่อนับจำนวน 'l' ที่อยู่ในสตริง"
      ],
      "metadata": {
        "id": "35MCdNrgqAH8"
      }
    },
    {
      "cell_type": "code",
      "source": [
        "count = 0\n",
        "\n",
        "for letter in 'Hello World':\n",
        "    # count += 1\n",
        "    if(letter == 'l'):\n",
        "        count += 1\n",
        "\n",
        "print(count,'letters found')"
      ],
      "metadata": {
        "id": "pfgn8m0Ip7Xn"
      },
      "execution_count": null,
      "outputs": []
    },
    {
      "cell_type": "markdown",
      "source": [
        "### การทดสอบสมาชิกในสตริง\n",
        "\n",
        "เราสามารถทดสอบว่ามีอักขระ หรือสตริงย่อยอยู่ภายในสตริงหรือไม่โดยใช้ keyword คือ in"
      ],
      "metadata": {
        "id": "ZBQo6Ns3qPn8"
      }
    },
    {
      "cell_type": "code",
      "source": [
        "'a' in 'program'"
      ],
      "metadata": {
        "id": "XGld2IoyqHBf"
      },
      "execution_count": null,
      "outputs": []
    },
    {
      "cell_type": "code",
      "source": [
        "'at' not in 'battle'"
      ],
      "metadata": {
        "id": "94svCi8eqX1i"
      },
      "execution_count": null,
      "outputs": []
    },
    {
      "cell_type": "markdown",
      "source": [
        "### Escape Characters\n",
        "\n",
        "กรณีตัวอย่าง : ถ้าหากเราต้องการพิมพ์ข้อความเช่น - He said, \"What's there?\" - เราไม่สามารถใช้เครื่องหมายคำพูดหรือคำพูดแบบคู่ได้ ซึ่งจะส่งผลให้เกิด SyntaxError เนื่องจากข้อความนั้นมีทั้งเครื่องหมายคำพูดแบบเดียว และแบบคู่\n"
      ],
      "metadata": {
        "id": "uWk43lCQqMLe"
      }
    },
    {
      "cell_type": "code",
      "source": [
        "#ตัวอย่างที่เกิดข้อผิดพลาด\n",
        "# ต้องการพิมพ์\n",
        "# He said, \"What's there?\"\n",
        "\n",
        "print(\"He said, \"What's there?\"\")"
      ],
      "metadata": {
        "id": "L5_olm0pqwwC"
      },
      "execution_count": null,
      "outputs": []
    },
    {
      "cell_type": "markdown",
      "source": [
        "วิธีหนึ่งในการแก้ปัญหานี้คือการใช้เครื่องหมายคำพูดแบบสามตัว หรือเราสามารถใช้ escape characters\n",
        "\n",
        "Escape characters เป็นอักขระพิเศษในไพธอน ซึ่งเป็นอักขระที่จะไม่แสดงผล หรือไม่ปรากฏให้เห็นตอนแสดงผลผ่านหน้าจอ ยกตัวอย่างเช่น \"\\n\" เป็นอักขระที่หมายถึงการขึ้นบรรทัดใหม่\n",
        "\n",
        "escape sequence เริ่มต้นด้วยเครื่องหมายแบ็กสแลช (\" \\ \") และถูกตีความแตกต่างกัน ถ้าเราใช้เครื่องคำพูดเดี่ยวเพื่อแทนสตริงจะต้องยกเว้นเครื่องหมายเดียวทั้งหมดภายในสตริง คล้ายกันคือกรณีที่มีเครื่องหมายคำพูดคู่ นี่คือวิธีที่สามารถทำได้เพื่อแสดงข้อความข้างต้น"
      ],
      "metadata": {
        "id": "Hq0dzu71qyTk"
      }
    },
    {
      "cell_type": "code",
      "source": [
        "# using triple quotes\n",
        "print(\"\"\"He said, \"What's there?\"\"\")"
      ],
      "metadata": {
        "id": "uRQGSOVsqkEU"
      },
      "execution_count": null,
      "outputs": []
    },
    {
      "cell_type": "code",
      "source": [
        "# escaping single quotes\n",
        "print('He said, \"What\\'s there?\"')"
      ],
      "metadata": {
        "id": "CWtBbWaCqn_X"
      },
      "execution_count": null,
      "outputs": []
    },
    {
      "cell_type": "code",
      "source": [
        "# escaping double quotes\n",
        "print(\"He said, \\\"What's there?\\\"\")"
      ],
      "metadata": {
        "id": "PIUbdMLtqqfi"
      },
      "execution_count": null,
      "outputs": []
    },
    {
      "cell_type": "markdown",
      "source": [
        "### เมธอด format()\n",
        "สำหรับการจัดรูปแบบแสดงผลของสตริง\n",
        "\n",
        "เมธอด format() สามารถใช้งานกับสตริงอ็อบเจ็กต์ที่มีความหลากหลายและมีประสิทธิภาพในการจัดรูปแบบการแสดงผลของสตริง สตริงการจัดรูปแบบมีวงเล็บปีกกา {} เป็นตัวยึดตำแหน่ง หรือฟิลด์แทนที่ซึ่งจะถูกแทนที่\n",
        "\n",
        "ภายในเครื่องหมาย {} เราสามารถใช้อาร์กิวเมนต์ตัวเลขตำแหน่ง หรืออาร์กิวเมนต์คำหลักเพื่อระบุลำดับในการแสดงผลได้"
      ],
      "metadata": {
        "id": "bA7490J6rMDA"
      }
    },
    {
      "cell_type": "code",
      "source": [
        "# default(implicit) order\n",
        "default_order = \"{}, {} and {}\".format('John','Bill','Sean')\n",
        "print('\\n--- Default Order ---')\n",
        "print(default_order)\n",
        "\n",
        "# order using positional argument\n",
        "positional_order = \"{1}, {0} and {2}\".format('John','Bill','Sean')\n",
        "print('\\n--- Positional Order ---')\n",
        "print(positional_order)\n",
        "\n",
        "# order using keyword argument\n",
        "keyword_order = \"{s}, {b} and {j}\".format(j='John',b='Bill',s='Sean')\n",
        "print('\\n--- Keyword Order ---')\n",
        "print(keyword_order)"
      ],
      "metadata": {
        "id": "YES1LRRVqsU6"
      },
      "execution_count": null,
      "outputs": []
    },
    {
      "cell_type": "markdown",
      "source": [
        "**format()**\n",
        "ผู้ใช้งานสามารถกำหนดทางเลือกในการแสดงผลสตริงได้อย่างหลากหลาย และจำเพาะเจาะจง\n",
        "\n",
        "ตัวอย่างเช่น สามารถใช้สัญลักพิเศษในการกำหนดรูปแบบการแสดงสตริงใช้ ชิดซ้าย <, ชิดขวา > หรือตรงกลาง ^ ได้\n",
        "\n",
        "นอกจากนี้เรายังสามารถจัดรูปแบบ integers เป็น binary, hexadecimal ฯลฯ\n",
        "\n",
        "และ floats สามารถปัดเศษหรือแสดงในรูปแบบเลขชี้กำลัง มีการจัดรูปแบบมากมายที่คุณสามารถใช้ได้"
      ],
      "metadata": {
        "id": "MGaISULw5CX-"
      }
    },
    {
      "cell_type": "code",
      "source": [
        "# formatting integers\n",
        "\"Binary representation of {0} is {0:b}\".format(12)"
      ],
      "metadata": {
        "id": "-MUkzdLq5ESG"
      },
      "execution_count": null,
      "outputs": []
    },
    {
      "cell_type": "code",
      "source": [
        "# formatting floats\n",
        "\"Exponent representation: {0:e}\".format(1566.345)"
      ],
      "metadata": {
        "id": "dbTtY_ny5MR5"
      },
      "execution_count": null,
      "outputs": []
    },
    {
      "cell_type": "code",
      "source": [
        "# round off\n",
        "\"One third is: {0:.3f}\".format(1/3)"
      ],
      "metadata": {
        "id": "Cn35CwU95OUD"
      },
      "execution_count": null,
      "outputs": []
    },
    {
      "cell_type": "code",
      "source": [
        "# string alignment\n",
        "\"|{:<10}|{:^10}|{:>10}|\".format('butter','bread','ham')"
      ],
      "metadata": {
        "id": "1HhzLJ-x5QDN"
      },
      "execution_count": null,
      "outputs": []
    },
    {
      "cell_type": "markdown",
      "source": [
        "### String Method ที่มักใช้งานบ่อย\n",
        "\n",
        "String Method ที่มักใช้งานบ่อย เช่น lower(), upper(), join(), split(), find(), replace() เป็นต้น"
      ],
      "metadata": {
        "id": "RSqyd9ca5WV9"
      }
    },
    {
      "cell_type": "code",
      "source": [
        "# Funciton\n",
        "# lower(\"PrOgRaMiZ\")\n",
        "\n",
        "# Method\n",
        "\"PrOgRaMiZ\".lower()"
      ],
      "metadata": {
        "colab": {
          "base_uri": "https://localhost:8080/",
          "height": 35
        },
        "id": "7ooSitKv5Upt",
        "outputId": "479e23c6-5bfd-4d7d-f431-4af84f276027"
      },
      "execution_count": 2,
      "outputs": [
        {
          "output_type": "execute_result",
          "data": {
            "text/plain": [
              "'programiz'"
            ],
            "application/vnd.google.colaboratory.intrinsic+json": {
              "type": "string"
            }
          },
          "metadata": {},
          "execution_count": 2
        }
      ]
    },
    {
      "cell_type": "code",
      "source": [
        "\"PrOgRaMiZ\".upper()"
      ],
      "metadata": {
        "colab": {
          "base_uri": "https://localhost:8080/",
          "height": 35
        },
        "id": "po04dQnu5iNP",
        "outputId": "5c0e2e32-4ef5-4b9f-8640-32e9c00b6669"
      },
      "execution_count": 3,
      "outputs": [
        {
          "output_type": "execute_result",
          "data": {
            "text/plain": [
              "'PROGRAMIZ'"
            ],
            "application/vnd.google.colaboratory.intrinsic+json": {
              "type": "string"
            }
          },
          "metadata": {},
          "execution_count": 3
        }
      ]
    },
    {
      "cell_type": "code",
      "source": [
        "\"This will split all words into a list\".split()"
      ],
      "metadata": {
        "colab": {
          "base_uri": "https://localhost:8080/"
        },
        "id": "2DskzjID5nSl",
        "outputId": "be5d9a5d-cd72-4d2a-8ac5-a3da894cd1d2"
      },
      "execution_count": 4,
      "outputs": [
        {
          "output_type": "execute_result",
          "data": {
            "text/plain": [
              "['This', 'will', 'split', 'all', 'words', 'into', 'a', 'list']"
            ]
          },
          "metadata": {},
          "execution_count": 4
        }
      ]
    },
    {
      "cell_type": "code",
      "source": [
        "' '.join(['This', 'will', 'join', 'all', 'words', 'into', 'a', 'string'])"
      ],
      "metadata": {
        "colab": {
          "base_uri": "https://localhost:8080/",
          "height": 35
        },
        "id": "-Xx6wDbQ5o7E",
        "outputId": "1fdcc485-341b-451a-dbfb-0a847822d6c3"
      },
      "execution_count": 5,
      "outputs": [
        {
          "output_type": "execute_result",
          "data": {
            "text/plain": [
              "'This will join all words into a string'"
            ],
            "application/vnd.google.colaboratory.intrinsic+json": {
              "type": "string"
            }
          },
          "metadata": {},
          "execution_count": 5
        }
      ]
    },
    {
      "cell_type": "code",
      "source": [
        "'Happy New Year'.find('p')"
      ],
      "metadata": {
        "colab": {
          "base_uri": "https://localhost:8080/"
        },
        "id": "py28hfhV5riN",
        "outputId": "a62efff6-b6a8-4761-9fe9-97cb52999e47"
      },
      "execution_count": 6,
      "outputs": [
        {
          "output_type": "execute_result",
          "data": {
            "text/plain": [
              "2"
            ]
          },
          "metadata": {},
          "execution_count": 6
        }
      ]
    },
    {
      "cell_type": "code",
      "source": [
        "'Happy New Year, Happy'.replace('Happy','Brilliant')"
      ],
      "metadata": {
        "colab": {
          "base_uri": "https://localhost:8080/",
          "height": 35
        },
        "id": "dK5o66K45u1h",
        "outputId": "0e253319-e429-490e-f2ce-b62c1ca84a34"
      },
      "execution_count": 7,
      "outputs": [
        {
          "output_type": "execute_result",
          "data": {
            "text/plain": [
              "'Brilliant New Year, Brilliant'"
            ],
            "application/vnd.google.colaboratory.intrinsic+json": {
              "type": "string"
            }
          },
          "metadata": {},
          "execution_count": 7
        }
      ]
    },
    {
      "cell_type": "markdown",
      "source": [
        "### ตัวอย่างการคำนวณค่า BMI"
      ],
      "metadata": {
        "id": "NZtSAPnG54mS"
      }
    },
    {
      "cell_type": "code",
      "source": [
        "weight, height = input(\"Enter your data (weight, height) : \").split()\n",
        "\n",
        "height_meter = int(height) / 100\n",
        "\n",
        "bmi = int(weight) / height_meter ** 2\n",
        "\n",
        "print(\"{0:.2f}\".format(bmi))"
      ],
      "metadata": {
        "colab": {
          "base_uri": "https://localhost:8080/"
        },
        "id": "qW-gZqfM5zpA",
        "outputId": "1214df9f-5649-452a-db6c-5a398f6dd759"
      },
      "execution_count": 9,
      "outputs": [
        {
          "output_type": "stream",
          "name": "stdout",
          "text": [
            "Enter your data (weight, height) : 175 20\n",
            "4375.00\n"
          ]
        }
      ]
    },
    {
      "cell_type": "code",
      "source": [
        "# เขียนโปรแกรมแบบย่อ\n",
        "\n",
        "data = [int(i) for i in input(\"Enter your data: \").split()]\n",
        "print(\"{0:.2f}\".format(data[0] / (data[1]/100)**2))"
      ],
      "metadata": {
        "colab": {
          "base_uri": "https://localhost:8080/"
        },
        "id": "N99DIcwk59LH",
        "outputId": "b58e7d03-0b67-4c49-cbce-fb668f27b063"
      },
      "execution_count": 10,
      "outputs": [
        {
          "output_type": "stream",
          "name": "stdout",
          "text": [
            "Enter your data: 175 20\n",
            "4375.00\n"
          ]
        }
      ]
    },
    {
      "cell_type": "markdown",
      "source": [
        "<hr>"
      ],
      "metadata": {
        "id": "zpapQPSc68Up"
      }
    },
    {
      "cell_type": "markdown",
      "source": [
        "## List"
      ],
      "metadata": {
        "id": "-Q9CPLCo6fQ6"
      }
    },
    {
      "cell_type": "markdown",
      "source": [
        "**วิธีการสร้าง List ในภาษาไพธอน**\n",
        "\n",
        "ในการเขียนโปรแกรมภาษาไพธอน List จะถูกสร้างขึ้นโดยการวางไอเท็มทั้งหมด (element) ภายในวงเล็บเหลี่ยม [ ] โดยคั่นด้วยเครื่องหมายจุลภาค (,) และภายใน List นั้นสามารถมีสมาชิกจำนวนมาก และอาจมีหลากหลายประเภทข้อมูล (จำนวนเต็ม, จำนวนจริง, สตริง ฯลฯ )"
      ],
      "metadata": {
        "id": "AF4fnFYN6fPD"
      }
    },
    {
      "cell_type": "code",
      "source": [
        "# empty list\n",
        "my_list = []\n",
        "\n",
        "# list of integers\n",
        "my_list = [1, 2, 3]\n",
        "\n",
        "# list with mixed datatypes\n",
        "my_list = [1, \"Hello\", 3.4]"
      ],
      "metadata": {
        "id": "N9xNr5gl6KVr"
      },
      "execution_count": 12,
      "outputs": []
    },
    {
      "cell_type": "markdown",
      "source": [
        "นอกจากนี้ภายใน List ยังสามารถมี List อื่นเป็นเป็นสมาชิกได้อีกด้วยซึ่งเรียกว่า Nested List"
      ],
      "metadata": {
        "id": "jSAHiIWR7EWX"
      }
    },
    {
      "cell_type": "code",
      "source": [
        "# nested list\n",
        "my_list = [\"mouse\", [8, 4, 6], ['a']]"
      ],
      "metadata": {
        "id": "vyofhT3M61DG"
      },
      "execution_count": 13,
      "outputs": []
    },
    {
      "cell_type": "markdown",
      "source": [
        "### วิธีการเข้าถึงสมาชิก (Element) ภายใน List\n",
        "\n",
        "มีหลายวิธีที่เราสามารถเข้าถึงสมาชิกของ List ได้\n",
        "\n",
        "ดัชนีรายการ (Index) เราสามารถใช้ตัวดำเนินการดัชนี [ ] เพื่อเข้าถึงสมาชิกภายใน List ได้ โดยดัชนีเริ่มจาก 0 ดังนั้น List ที่มีสมาชิก 5 ตัว จะมีดัชนีตั้งแต่ 0 ถึง 4"
      ],
      "metadata": {
        "id": "okT4plg17QQ4"
      }
    },
    {
      "cell_type": "code",
      "source": [
        "my_list = ['p','r','o','b','e']\n",
        "# Output: p\n",
        "print(my_list[0])\n",
        "\n",
        "# Output: o\n",
        "print(my_list[2])\n",
        "\n",
        "# Output: e\n",
        "print(my_list[4])\n",
        "\n",
        "# Error! Only integer can be used for indexing\n",
        "# my_list[4.0]\n",
        "\n",
        "# Nested List\n",
        "n_list = [\"Happy\", [2,0,1,5]]\n",
        "\n",
        "# Nested indexing\n",
        "\n",
        "# Output: a\n",
        "print(n_list[0][1])\n",
        "\n",
        "# Output: 5\n",
        "print(n_list[1][3])"
      ],
      "metadata": {
        "colab": {
          "base_uri": "https://localhost:8080/"
        },
        "id": "qlnvz9zn7V8W",
        "outputId": "3e1e8868-d4a1-4c00-cd7e-4576cb207faa"
      },
      "execution_count": 14,
      "outputs": [
        {
          "output_type": "stream",
          "name": "stdout",
          "text": [
            "p\n",
            "o\n",
            "e\n",
            "a\n",
            "5\n"
          ]
        }
      ]
    },
    {
      "cell_type": "code",
      "source": [
        "# Nested List\n",
        "# n_list = [\"Happy\", [2,0,1,5]]\n",
        "\n",
        "n_list = [[1, 2, 3], [4, 5, 6, [7, 8, 9, 10, [11, 12]]]]\n",
        "\n",
        "# จงเข้าถึงเลข 12 ใน n_list\n",
        "\n"
      ],
      "metadata": {
        "id": "5lge73_A7I-p"
      },
      "execution_count": 17,
      "outputs": []
    },
    {
      "cell_type": "code",
      "source": [
        "matrx = [\n",
        "    [1, 2, 3, 4],\n",
        "    [5, 6, 7, 8],\n",
        "    [9, 10, 11, 12]\n",
        "]\n",
        "\n",
        "# จงเข้าถึงเลข 12 ใน n_list\n",
        "\n"
      ],
      "metadata": {
        "id": "yRKKqnOg7hxl"
      },
      "execution_count": 18,
      "outputs": []
    },
    {
      "cell_type": "code",
      "source": [
        "str_lt = [\n",
        "        [\"Phisan\"],\n",
        "        [\"Sookkhee\", \"Hello\"],\n",
        "        ]\n",
        "\n",
        "# จงเข้าถึงตัวอักษร o ใน Hello ใน str_list\n",
        "\n"
      ],
      "metadata": {
        "id": "cf6lNw5s7oJD"
      },
      "execution_count": 19,
      "outputs": []
    },
    {
      "cell_type": "markdown",
      "source": [
        "### การจัดทำดัชนีเชิงลบ (Negative indexing)\n",
        "\n",
        "โปรแกรมภาษาไพธอนช่วยช่วยอำนวนความสะดวกในการเข้าถึงสมาชิกที่อยู่ใน List ให้สามารถทำได้ง่ายขึ้น โดยอนุญาติให้มีการจัดทำดัชนีเชิงลบ โดย ดัชนี -1 หมายถึงรายการสุดท้ายภายใน List และ -2 ไปยังรายการสุดท้ายที่สองและอื่น ๆ"
      ],
      "metadata": {
        "id": "4wMXhVUJ8FWQ"
      }
    },
    {
      "cell_type": "code",
      "source": [
        "my_list = ['p','r','o','b','e']"
      ],
      "metadata": {
        "id": "g44oDpjD7-27"
      },
      "execution_count": null,
      "outputs": []
    },
    {
      "cell_type": "code",
      "source": [
        "my_list[len(my_list) - 1]"
      ],
      "metadata": {
        "colab": {
          "base_uri": "https://localhost:8080/",
          "height": 35
        },
        "id": "wHpBOQaG8SZG",
        "outputId": "79a9c3af-4621-4730-e0da-19340b8576af"
      },
      "execution_count": 22,
      "outputs": [
        {
          "output_type": "execute_result",
          "data": {
            "text/plain": [
              "'e'"
            ],
            "application/vnd.google.colaboratory.intrinsic+json": {
              "type": "string"
            }
          },
          "metadata": {},
          "execution_count": 22
        }
      ]
    },
    {
      "cell_type": "code",
      "source": [
        "my_list[-1]"
      ],
      "metadata": {
        "colab": {
          "base_uri": "https://localhost:8080/",
          "height": 35
        },
        "id": "eP4t9MpT8URq",
        "outputId": "91f843d0-8cf5-483d-c916-5889e33506c3"
      },
      "execution_count": 20,
      "outputs": [
        {
          "output_type": "execute_result",
          "data": {
            "text/plain": [
              "'e'"
            ],
            "application/vnd.google.colaboratory.intrinsic+json": {
              "type": "string"
            }
          },
          "metadata": {},
          "execution_count": 20
        }
      ]
    },
    {
      "cell_type": "markdown",
      "source": [
        "### Slice Lists\n",
        "\n",
        "เราสามารถเข้าถึงสมาชิกต่าง ๆ ภายใน List โดยใช้ตัวดำเนินการ slice ( : )"
      ],
      "metadata": {
        "id": "BAcjVruT8p5X"
      }
    },
    {
      "cell_type": "code",
      "source": [
        "my_list = ['p','r','o','g','r','a','m','i','z']\n",
        "\n",
        "# สมาชิกลำดับที่ 3 ถึง 5\n",
        "print(my_list[2:5])\n",
        "\n",
        "# สมาชิกเริ่มจากลำดับที่ 1 ถึง 4\n",
        "print(my_list[:-5])\n",
        "\n",
        "# สมาชิกลำดับที่ 6 ถึง ลำดับสุดท้าย\n",
        "print(my_list[5:])\n",
        "\n",
        "# สมาชิกลำดับแรก ถึง ลำดับสุดท้าย\n",
        "print(my_list[:])"
      ],
      "metadata": {
        "colab": {
          "base_uri": "https://localhost:8080/"
        },
        "id": "b_a5aFa78W0O",
        "outputId": "6721de40-db4d-424e-fe32-8f9b7f43c412"
      },
      "execution_count": 23,
      "outputs": [
        {
          "output_type": "stream",
          "name": "stdout",
          "text": [
            "['o', 'g', 'r']\n",
            "['p', 'r', 'o', 'g']\n",
            "['a', 'm', 'i', 'z']\n",
            "['p', 'r', 'o', 'g', 'r', 'a', 'm', 'i', 'z']\n"
          ]
        }
      ]
    },
    {
      "cell_type": "code",
      "source": [
        "# var[start:stop:step]\n",
        "\n",
        "n = [1, 2, 3, 4, 5, 6, 7, 8, 9]\n",
        "\n",
        "n[::-1]"
      ],
      "metadata": {
        "colab": {
          "base_uri": "https://localhost:8080/"
        },
        "id": "I1ozQtks8xTY",
        "outputId": "e0279c2d-ff72-4e2f-cd1c-a23f5152c77d"
      },
      "execution_count": 24,
      "outputs": [
        {
          "output_type": "execute_result",
          "data": {
            "text/plain": [
              "[9, 8, 7, 6, 5, 4, 3, 2, 1]"
            ]
          },
          "metadata": {},
          "execution_count": 24
        }
      ]
    },
    {
      "cell_type": "code",
      "source": [
        "n = [1, 2, 3, 4, 5, 6, 7, 8, 9]\n",
        "n[::-2]"
      ],
      "metadata": {
        "colab": {
          "base_uri": "https://localhost:8080/"
        },
        "id": "aYpoh1CE80Ve",
        "outputId": "3c997335-70b5-41a6-98b7-59225f82e6a1"
      },
      "execution_count": 25,
      "outputs": [
        {
          "output_type": "execute_result",
          "data": {
            "text/plain": [
              "[9, 7, 5, 3, 1]"
            ]
          },
          "metadata": {},
          "execution_count": 25
        }
      ]
    },
    {
      "cell_type": "code",
      "source": [
        "#การบ้าน\n",
        "'''\n",
        "เลขพาลินโดรม\n",
        "เลขที่เมื่อกลับหลังแล้วยังได้ตัวเดิม\n",
        "เช่น 8008, 0880\n",
        "'''\n",
        "\n",
        "# โจทย์ จงหาว่าในช่วง 1 - 1000 มีเลยพาลินโดรมอยู่เท่าไร่\n",
        "# การแปลงชนิดข้อมูล\n",
        "# int -> string\n",
        "count = 0\n",
        "for i in range(100, 1001):\n",
        "    if str(i) == _______:\n",
        "        count += 1\n",
        "\n",
        "print(count)"
      ],
      "metadata": {
        "id": "P5TFd8TK83jM"
      },
      "execution_count": null,
      "outputs": []
    },
    {
      "cell_type": "markdown",
      "source": [
        "### วิธีการเปลี่ยน หรือเพิ่มข้อมูลสมาชิกลงใน List\n",
        "\n",
        "เราสามารถใช้ตัวดำเนินการกำหนดค่า (=) เพื่อเปลี่ยนแปลงข้อมูลสมาชิกภายใน List ได้ ซึ่งในการเปลี่ยนแปลงข้อมูลนั้นสามารถทำได้ทีละตัว หรือกระทำเป็นช่วงข้อมูลได้"
      ],
      "metadata": {
        "id": "WpGcF1Ns9OHG"
      }
    },
    {
      "cell_type": "code",
      "source": [
        "lt = []\n",
        "\n",
        "# วิธีที่ 1 : append\n",
        "lt.append(1)\n",
        "lt.append(3)\n",
        "lt.append(5)"
      ],
      "metadata": {
        "id": "iRwbX5a39ReH"
      },
      "execution_count": 26,
      "outputs": []
    },
    {
      "cell_type": "code",
      "source": [
        "lt"
      ],
      "metadata": {
        "colab": {
          "base_uri": "https://localhost:8080/"
        },
        "id": "z30wI48o9U65",
        "outputId": "41671ebf-1c6a-4287-93c6-5c996bd75716"
      },
      "execution_count": 27,
      "outputs": [
        {
          "output_type": "execute_result",
          "data": {
            "text/plain": [
              "[1, 3, 5]"
            ]
          },
          "metadata": {},
          "execution_count": 27
        }
      ]
    },
    {
      "cell_type": "code",
      "source": [
        "# วิธีที่ 2 : insert\n",
        "lt = [1, 3, 5]\n",
        "\n",
        "lt.insert(0, 0)\n",
        "# [0, 1, 3, 5]\n",
        "\n",
        "lt.insert(2, 2)\n",
        "# [0, 1, 2, 3, 5]\n",
        "\n",
        "lt.insert(4, 4)\n",
        "# [0, 1, 2, 3, 4, 5]"
      ],
      "metadata": {
        "id": "jEV34g-59WXC"
      },
      "execution_count": 28,
      "outputs": []
    },
    {
      "cell_type": "code",
      "source": [
        "lt"
      ],
      "metadata": {
        "colab": {
          "base_uri": "https://localhost:8080/"
        },
        "id": "Agv_bCEV9ZGi",
        "outputId": "0ebb8f50-85a9-450f-e40c-53b4cf4c30a7"
      },
      "execution_count": 29,
      "outputs": [
        {
          "output_type": "execute_result",
          "data": {
            "text/plain": [
              "[0, 1, 2, 3, 4, 5]"
            ]
          },
          "metadata": {},
          "execution_count": 29
        }
      ]
    },
    {
      "cell_type": "code",
      "source": [
        "# mistake values\n",
        "odd = [2, 4, 6, 8]\n",
        "\n",
        "# change the 1st item\n",
        "odd[0] = 1\n",
        "\n",
        "# Output: [1, 4, 6, 8]\n",
        "print(odd)\n",
        "\n",
        "# change 2nd to 4th items\n",
        "odd[1:4] = [3, 5, 7]\n",
        "\n",
        "# Output: [1, 3, 5, 7]\n",
        "print(odd)"
      ],
      "metadata": {
        "colab": {
          "base_uri": "https://localhost:8080/"
        },
        "id": "FLJmIiq_9Z4n",
        "outputId": "9ba5c342-0781-4d1f-b14b-ffb8fb0e38ba"
      },
      "execution_count": 30,
      "outputs": [
        {
          "output_type": "stream",
          "name": "stdout",
          "text": [
            "[1, 4, 6, 8]\n",
            "[1, 3, 5, 7]\n"
          ]
        }
      ]
    },
    {
      "cell_type": "markdown",
      "source": [
        "เราสามารถเพิ่มข้อมูลเข้าไปใน List ทีละตัวได้โดยใช้ append() หรือเพิ่มข้อมูลครั้งละหลายรายการเข้าไปใน List ได้โดยใช้ extend()"
      ],
      "metadata": {
        "id": "BYGfhtpN92Ut"
      }
    },
    {
      "cell_type": "code",
      "source": [
        "odd = [1, 3, 5]\n",
        "\n",
        "odd.append(7)\n",
        "\n",
        "# Output: [1, 3, 5, 7]\n",
        "print(odd)\n",
        "\n",
        "odd.extend([9, 11, 13])\n",
        "\n",
        "# Output: [1, 3, 5, 7, 9, 11, 13]\n",
        "print(odd)"
      ],
      "metadata": {
        "colab": {
          "base_uri": "https://localhost:8080/"
        },
        "id": "DJjx2rw19jiE",
        "outputId": "ffc27032-2597-43da-fefa-d60fc96200a0"
      },
      "execution_count": 31,
      "outputs": [
        {
          "output_type": "stream",
          "name": "stdout",
          "text": [
            "[1, 3, 5, 7]\n",
            "[1, 3, 5, 7, 9, 11, 13]\n"
          ]
        }
      ]
    },
    {
      "cell_type": "code",
      "source": [
        "a = [1, 2, 3]\n",
        "b = [4, 5, 6]\n",
        "\n",
        "a.extend(b)\n",
        "a"
      ],
      "metadata": {
        "colab": {
          "base_uri": "https://localhost:8080/"
        },
        "id": "UiOdK1c09589",
        "outputId": "06c99294-3079-4364-f07e-0d51ae0519f4"
      },
      "execution_count": 32,
      "outputs": [
        {
          "output_type": "execute_result",
          "data": {
            "text/plain": [
              "[1, 2, 3, 4, 5, 6]"
            ]
          },
          "metadata": {},
          "execution_count": 32
        }
      ]
    },
    {
      "cell_type": "markdown",
      "source": [
        "นอกจากนี้ยังสามารถใช้ตัวดำเนินการบวก ( + ) เพื่อทำการรวม 2 List เข้าด้วยกัน วิธีนี้เรียกว่า Concatenation\n",
        "\n",
        "และสามารถใช้ตัวดำเนินการคูณ ( * ) เพื่อการสร้างสมาชิกซ้ำภายใน List ตามจำนวนครั้งที่กำหนด"
      ],
      "metadata": {
        "id": "0zeMsZl-9_98"
      }
    },
    {
      "cell_type": "code",
      "source": [
        "odd = [1, 3, 5]\n",
        "\n",
        "# Output: [1, 3, 5, 9, 7, 5]\n",
        "print(odd + [9, 7, 5])\n",
        "\n",
        "#Output: [\"re\", \"re\", \"re\"]\n",
        "print([\"re\"] * 3)"
      ],
      "metadata": {
        "colab": {
          "base_uri": "https://localhost:8080/"
        },
        "id": "CIeFXBFH98r7",
        "outputId": "ab263dc6-9a01-4af6-acd3-e91018cb00dc"
      },
      "execution_count": 33,
      "outputs": [
        {
          "output_type": "stream",
          "name": "stdout",
          "text": [
            "[1, 3, 5, 9, 7, 5]\n",
            "['re', 're', 're']\n"
          ]
        }
      ]
    },
    {
      "cell_type": "code",
      "source": [
        "a = [1, 2, 3]\n",
        "b = [4, 5, 6]\n",
        "\n",
        "a + b #เท่ากับการ extend"
      ],
      "metadata": {
        "colab": {
          "base_uri": "https://localhost:8080/"
        },
        "id": "m8Cp0mY7-Co4",
        "outputId": "1b153b40-5339-4fe2-c926-5b367b166f25"
      },
      "execution_count": 34,
      "outputs": [
        {
          "output_type": "execute_result",
          "data": {
            "text/plain": [
              "[1, 2, 3, 4, 5, 6]"
            ]
          },
          "metadata": {},
          "execution_count": 34
        }
      ]
    },
    {
      "cell_type": "markdown",
      "source": [
        "### วิธีการลบมูลสมาชิกออกจาก List\n",
        "\n",
        "เราสามารถลบข้อมูลสมาชิกออกจาก List ครั้งละหนึ่งรายการ หรือมากกว่านั้นออกจาก List โดยใช้คำสำคัญ delรายการได้ทั้งหมด"
      ],
      "metadata": {
        "id": "r5_Oo0vE-Lmy"
      }
    },
    {
      "cell_type": "code",
      "source": [
        "my_list = ['p','r','o','b','l','e','m']\n",
        "\n",
        "# delete one item\n",
        "del my_list[2]\n",
        "\n",
        "# Output: ['p', 'r', 'b', 'l', 'e', 'm']\n",
        "print(my_list)\n",
        "\n",
        "# delete multiple items\n",
        "del my_list[1:5]\n",
        "\n",
        "# Output: ['p', 'm']\n",
        "print(my_list)\n",
        "\n",
        "# delete entire list\n",
        "del my_list\n",
        "\n",
        "# Error: List not defined\n",
        "# print(my_list)"
      ],
      "metadata": {
        "colab": {
          "base_uri": "https://localhost:8080/"
        },
        "id": "f8fGA4dc-HSG",
        "outputId": "740797b6-a3dd-4f94-ec4e-05529b0855cd"
      },
      "execution_count": 37,
      "outputs": [
        {
          "output_type": "stream",
          "name": "stdout",
          "text": [
            "['p', 'r', 'b', 'l', 'e', 'm']\n",
            "['p', 'm']\n"
          ]
        }
      ]
    },
    {
      "cell_type": "markdown",
      "source": [
        "ในอีกทางหนึ่งนั้น เราสามารถใช้เมธอด remove() เพื่อทำการลบข้อมูลสมาชิกที่กำหนดได้ทันที หรือใช้เมทอด pop() เพื่อทำการลบข้อมูลภายสมาชิกในรายการที่กำหนดได้\n",
        "\n",
        "เมธอด pop() จะลบและส่งกลับรายการสุดท้ายหากไม่มีดัชนี ซึ่งช่วยให้เราสามารถใช้ List เพื่อเป็นสแต็ก\n",
        "\n",
        "นอกจากนี้เรายังสามารถใช้เมธอด clear() เพื่อลบข้อมูลสมาชิกทั้งหมดออกจาก List"
      ],
      "metadata": {
        "id": "24Kk-tHa-k5u"
      }
    },
    {
      "cell_type": "code",
      "source": [
        "my_list = ['p','r','o','b','l','e','m']\n",
        "my_list.remove('p')\n",
        "\n",
        "# Output: ['r', 'o', 'b', 'l', 'e', 'm']\n",
        "print(my_list)\n",
        "\n",
        "# Output: 'o'\n",
        "print(my_list.pop(1))\n",
        "\n",
        "# Output: ['r', 'b', 'l', 'e', 'm']\n",
        "print(my_list)\n",
        "\n",
        "# Output: 'm'\n",
        "print(my_list.pop())\n",
        "\n",
        "# Output: ['r', 'b', 'l', 'e']\n",
        "print(my_list)\n",
        "\n",
        "my_list.clear()\n",
        "\n",
        "# Output: []\n",
        "print(my_list)"
      ],
      "metadata": {
        "colab": {
          "base_uri": "https://localhost:8080/"
        },
        "id": "t8XcuQkj-TXF",
        "outputId": "230a07b1-4c23-4b7a-c414-69562f0a63ed"
      },
      "execution_count": 38,
      "outputs": [
        {
          "output_type": "stream",
          "name": "stdout",
          "text": [
            "['r', 'o', 'b', 'l', 'e', 'm']\n",
            "o\n",
            "['r', 'b', 'l', 'e', 'm']\n",
            "m\n",
            "['r', 'b', 'l', 'e']\n",
            "[]\n"
          ]
        }
      ]
    },
    {
      "cell_type": "markdown",
      "source": [
        "### การทดสอบการเป็นสมาชิกใน List หรือไม่\n",
        "\n",
        "เราสามารถใช้ keyword in สำหรับการทดสองว่ามีข้อมูลที่ต้องการทดสอบเป็นสมาชิกอยู่ List หรือไม่"
      ],
      "metadata": {
        "id": "glrzMYVA-ruP"
      }
    },
    {
      "cell_type": "code",
      "source": [
        "my_list = ['p','r','o','b','l','e','m']\n",
        "\n",
        "# Output: True\n",
        "print('p' in my_list)\n",
        "\n",
        "# Output: False\n",
        "print('a' in my_list)\n",
        "\n",
        "# Output: True\n",
        "print('c' not in my_list)"
      ],
      "metadata": {
        "colab": {
          "base_uri": "https://localhost:8080/"
        },
        "id": "f6LXCNwe-o2D",
        "outputId": "7cfdca13-9d89-4c8b-b6ec-349c4400877a"
      },
      "execution_count": 39,
      "outputs": [
        {
          "output_type": "stream",
          "name": "stdout",
          "text": [
            "True\n",
            "False\n",
            "True\n"
          ]
        }
      ]
    },
    {
      "cell_type": "markdown",
      "source": [
        "<hr>"
      ],
      "metadata": {
        "id": "IjFNt9_Q-zHe"
      }
    },
    {
      "cell_type": "markdown",
      "source": [
        "## Tuple"
      ],
      "metadata": {
        "id": "MMW6oeE2_JFE"
      }
    },
    {
      "cell_type": "markdown",
      "source": [
        "ในการเขียนโปรแกรมภาษาไพธอนนั้น Tuple จะมีความคล้ายกับ List แต่ความแตกต่างระหว่างของทั้งสอง คือการที่เราไม่สามารถเปลี่ยนแปลงข้อมูลสมาชิกของ Tuple ได้ ซึ่งแตกต่างกับ List ที่สามารถเปลี่ยนแปลงค่าข้อมูลสมาชิกภายใน List ได้ตลอดเวลา\n",
        "\n"
      ],
      "metadata": {
        "id": "I9WUAlGY_NP5"
      }
    },
    {
      "cell_type": "markdown",
      "source": [
        "### ข้อดีของ Tuple\n",
        "\n",
        "โดย Tuples นั้นค่อนข้างคล้ายกับ List ซึ่งทั้งสองจะสามารถใช้งานได้คล้ายกัน\n",
        "\n",
        "อย่างไรก็ตามมีข้อดีบางอย่างในการใช้งาน Tuple ที่เหนือกว่าการใช้งาน List ดังนี้ :\n",
        "\n",
        "1. โดยทั่วไปเราใช้ Tuple สำหรับประเภทข้อมูลที่แตกต่างกัน และ List สำหรับประเภทข้อมูลที่เหมือนกัน (หรือคล้ายกัน)\n",
        "\n",
        "2. เนื่องจาก Tuple จะไม่มีการเปลี่ยนแปลงข้อมูล การทำงานวนซ้ำ (Itering) บน Tuple จะเร็วกว่า List ซึ่งเป็นการเพิ่มประสิทธิภาพการทำงานขึ้นเล็กน้อย\n",
        "\n",
        "3. Tuples มีข้อมูลสมาชิกที่คงที่ ไม่มีการเปลี่ยนแปลง ทำให้สามารถใช้เป็นคีย์สำหรับพจนานุกรมได้ ซึ่งต่างจาก List ที่ไม่สามารถทำได้\n",
        "\n",
        "4. หากมีข้อมูลที่ไม่ต้องการให้ทำการเปลี่ยนแปลง การนำ Tuple มาใช้งานจะรับประกันได้ว่าจะสามารถป้องกันการเขียน หรือแก้ไขข้อมูลสมาชิกได้"
      ],
      "metadata": {
        "id": "FQFLVh1c_k4G"
      }
    },
    {
      "cell_type": "markdown",
      "source": [
        "### การสร้าง Tuple\n",
        "\n",
        "Tuple จะถูกสร้างขึ้นโดยวางข้อมูลสมาชิกทั้งหมดไว้ในวงเล็บ () โดยคั่นด้วยเครื่องหมายจุลภาค\n",
        "\n",
        "ภายใน Tuple สามารถมีข้อมูลสมาชิกที่เป็น List ได้หลาย List และอาจมีข้อมูลได้หลายประเภทข้อมูล (integer, float, list, string เป็นต้น)"
      ],
      "metadata": {
        "id": "IIDcq8uR_rMP"
      }
    },
    {
      "cell_type": "code",
      "source": [
        "# empty tuple\n",
        "# Output: ()\n",
        "my_tuple = () # []\n",
        "print(my_tuple)\n",
        "\n",
        "# tuple having integers\n",
        "# Output: (1, 2, 3)\n",
        "my_tuple = (1, 2, 3)\n",
        "print(my_tuple)\n",
        "\n",
        "# tuple with mixed datatypes\n",
        "# Output: (1, \"Hello\", 3.4)\n",
        "my_tuple = (1, \"Hello\", 3.4)\n",
        "print(my_tuple)\n",
        "\n",
        "# nested tuple\n",
        "# Output: (\"mouse\", [8, 4, 6], (1, 2, 3))\n",
        "my_tuple = (\"mouse\", [8, 4, 6], (1, 2, 3))\n",
        "print(my_tuple)\n",
        "\n",
        "# tuple can be created without parentheses\n",
        "# also called tuple packing\n",
        "# Output: 3, 4.6, \"dog\"\n",
        "\n",
        "my_tuple = 3, 4.6, \"dog\"\n",
        "print(my_tuple)\n",
        "\n",
        "# tuple unpacking is also possible\n",
        "# Output:\n",
        "# 3\n",
        "# 4.6\n",
        "# dog\n",
        "a, b, c = my_tuple\n",
        "print(a)\n",
        "print(b)\n",
        "print(c)"
      ],
      "metadata": {
        "colab": {
          "base_uri": "https://localhost:8080/"
        },
        "id": "3CB7OuLJ-wcy",
        "outputId": "c9762292-ad42-4354-e6e8-3605e11ac513"
      },
      "execution_count": 40,
      "outputs": [
        {
          "output_type": "stream",
          "name": "stdout",
          "text": [
            "()\n",
            "(1, 2, 3)\n",
            "(1, 'Hello', 3.4)\n",
            "('mouse', [8, 4, 6], (1, 2, 3))\n",
            "(3, 4.6, 'dog')\n",
            "3\n",
            "4.6\n",
            "dog\n"
          ]
        }
      ]
    },
    {
      "cell_type": "markdown",
      "source": [
        "### ข้อสังเกตุในการสร้าง Tuple\n",
        "\n",
        "การสร้าง Tuple ที่มีข้อมูลสมาชิกเพียง 1 ตัวนั้น มีข้อน่าสังเกตุ คือ หากใส่ข้อมูลเข้าไปเครื่องหมาย ( ) เลยจะทำให้ตัวแปรภาษาทำการตีความหมายผิดไป จึงจำเป็นจะต้องมีเครื่องหมายจุลภาคต่อท้ายข้อมูลสมาชิกนั้นด้วย เพื่อบ่งบอกว่าสิ่งที่เราสร้างขึ้นนั้นเป็น Tuple"
      ],
      "metadata": {
        "id": "Kp5IkZlg_1rE"
      }
    },
    {
      "cell_type": "code",
      "source": [
        "# only parentheses is not enough\n",
        "# Output: <class 'str'>\n",
        "my_tuple = (\"hello\")\n",
        "print(type(my_tuple))\n",
        "\n",
        "# need a comma at the end\n",
        "# Output: <class 'tuple'>\n",
        "my_tuple = (\"hello\",)\n",
        "print(type(my_tuple))\n",
        "\n",
        "# parentheses is optional\n",
        "# Output: <class 'tuple'>\n",
        "my_tuple = \"hello\",\n",
        "print(type(my_tuple))"
      ],
      "metadata": {
        "colab": {
          "base_uri": "https://localhost:8080/"
        },
        "id": "hPBExfbs_wcp",
        "outputId": "9013b8b8-cc6e-4200-cc9a-885e4087cecc"
      },
      "execution_count": 41,
      "outputs": [
        {
          "output_type": "stream",
          "name": "stdout",
          "text": [
            "<class 'str'>\n",
            "<class 'tuple'>\n",
            "<class 'tuple'>\n"
          ]
        }
      ]
    },
    {
      "cell_type": "markdown",
      "source": [
        "### การเปลี่ยนแปลง Tuple\n",
        "\n",
        "Tuple นั้นจะมีลักษณะคงที่ไม่สามารถทำการเปลี่ยนแปลงค่าของสมาชิกหลังจากถูกสร้างขึ้น\n",
        "\n",
        "ซึ่งหมายความว่าข้อมูลสมาชิกของ Tuple ไม่สามารถเปลี่ยนแปลงได้เมื่อมีการกำหนดค่าแล้ว แต่ถ้าข้อมูลสมาชิกภายใน Tuple นั้นเป็นข้อมูลประเภทที่แก้ไขค่าได้เช่น List จะสามารถเปลี่ยนแปลงได้ค่าที่อยู่ภายใน List นั้นได้"
      ],
      "metadata": {
        "id": "urR_dY3FAhXG"
      }
    },
    {
      "cell_type": "code",
      "source": [
        "my_tuple = (4, 2, 3, [6, 5])\n",
        "\n",
        "# เราไม่สามารถเปลี่ยนองค์ประกอบได้\n",
        "\n",
        "# หากคุณยกเลิกการ comment คำสั่งด้านล่าง\n",
        "# คุณจะได้รับข้อความแจ้งข้อผิดพลาด:\n",
        "# TypeError: 'tuple' object does not support item assignment\n",
        "\n",
        "#my_tuple [1] = 9\n",
        "\n",
        "# แต่รายการขององค์ประกอบที่เปลี่ยนแปลงได้สามารถเปลี่ยนแปลงได้\n",
        "# ผลลัพธ์: (4, 2, 3, [9, 5])\n",
        "my_tuple[3][0] = 9\n",
        "print(my_tuple)\n",
        "\n",
        "# tuples สามารถกำหนดใหม่ได้\n",
        "# ผลลัพธ์: ('p', 'r', 'o', 'g', 'r', 'a', 'm', 'i', 'z')\n",
        "my_tuple = ('p', 'r', 'o', 'g', 'r', 'a', 'm', 'i', 'z')\n",
        "print(my_tuple)"
      ],
      "metadata": {
        "colab": {
          "base_uri": "https://localhost:8080/"
        },
        "id": "6J73V_Wx_7oo",
        "outputId": "34e9f566-fba3-472c-d329-f234a1c58209"
      },
      "execution_count": 43,
      "outputs": [
        {
          "output_type": "stream",
          "name": "stdout",
          "text": [
            "(4, 2, 3, [9, 5])\n",
            "('p', 'r', 'o', 'g', 'r', 'a', 'm', 'i', 'z')\n"
          ]
        }
      ]
    },
    {
      "cell_type": "code",
      "source": [
        "my_tuple [1] = 9"
      ],
      "metadata": {
        "id": "Zef7f1VVAnY1"
      },
      "execution_count": null,
      "outputs": []
    },
    {
      "cell_type": "markdown",
      "source": [
        "เราสามารถใช้ตัวดำเนินการบวก ( + ) เพื่อรวม Tuple ซึ่งการดำเนินการนี้เรียกว่า Concatenation\n",
        "\n",
        "นอกจากนี้เราสามารถทำซ้ำข้อมูลสมาชิกภายใน Tuple ตามจำนวนครั้งที่ต้องการ โดยใช้ตัวดำเนินการคูณ ( * )\n",
        "\n",
        "โดยผลการดำเนินงานทั้ง + และ * เป็น Tuple ชุดใหม่"
      ],
      "metadata": {
        "id": "Q6grBLkkBI6o"
      }
    },
    {
      "cell_type": "code",
      "source": [
        "# Concatenation\n",
        "\n",
        "# ผลลัพธ์: (1, 2, 3, 4, 5, 6)\n",
        "print((1, 2, 3) + (4, 5, 6))\n",
        "\n",
        "# Repeat\n",
        "# ผลลัพธ์: ('Repeat', 'Repeat', 'Repeat')\n",
        "print((\"Repeat\",) * 3)"
      ],
      "metadata": {
        "colab": {
          "base_uri": "https://localhost:8080/"
        },
        "id": "chrN-1udBCY7",
        "outputId": "32a53ed7-b26a-4812-a4dd-7825adde09b0"
      },
      "execution_count": 45,
      "outputs": [
        {
          "output_type": "stream",
          "name": "stdout",
          "text": [
            "(1, 2, 3, 4, 5, 6)\n",
            "('Repeat', 'Repeat', 'Repeat')\n"
          ]
        }
      ]
    },
    {
      "cell_type": "markdown",
      "source": [
        "### การลบ Tuple\n",
        "\n",
        "ตามที่กล่าวไว้ข้างต้นเราไม่สามารถเปลี่ยนแปลงข้อมูลสมาชิกภายใน Tuple ได้ นั่นหมายความว่าเราไม่สามารถลบหรือนำข้อมูลออกจาก Tuple ได้\n",
        "\n",
        "แต่ลบสามารถลบ Tuple ทั้งหมดเป็นไปได้โดยใช้คำหลัก del"
      ],
      "metadata": {
        "id": "EnglPJ7NBSfi"
      }
    },
    {
      "cell_type": "code",
      "source": [
        "my_tuple = ('p', 'r', 'o', 'g', 'r', 'a', 'm', 'i', 'z')\n",
        "\n",
        "# ไม่สามารถลบรายการได้\n",
        "# ถ้ายกเลิกการ comment คำสั่งด้านล่าง,\n",
        "# คุณจะได้รับข้อความแจ้งข้อผิดพลาด:\n",
        "# TypeError: 'tuple' object doesn't support item deletion\n",
        "\n",
        "#del my_tuple [3]\n",
        "\n",
        "# สามารถลบ Tuple ทั้งหมดได้\n",
        "# NameError: name 'my_tuple' is not defined\n",
        "del my_tuple\n",
        "\n",
        "my_tuple"
      ],
      "metadata": {
        "colab": {
          "base_uri": "https://localhost:8080/",
          "height": 214
        },
        "id": "TfnN49gkBM2i",
        "outputId": "47278875-45b1-40a6-86f7-0f6e892633bf"
      },
      "execution_count": 46,
      "outputs": [
        {
          "output_type": "error",
          "ename": "NameError",
          "evalue": "ignored",
          "traceback": [
            "\u001b[0;31m---------------------------------------------------------------------------\u001b[0m",
            "\u001b[0;31mNameError\u001b[0m                                 Traceback (most recent call last)",
            "\u001b[0;32m<ipython-input-46-6e933a26ed2b>\u001b[0m in \u001b[0;36m<cell line: 14>\u001b[0;34m()\u001b[0m\n\u001b[1;32m     12\u001b[0m \u001b[0;32mdel\u001b[0m \u001b[0mmy_tuple\u001b[0m\u001b[0;34m\u001b[0m\u001b[0;34m\u001b[0m\u001b[0m\n\u001b[1;32m     13\u001b[0m \u001b[0;34m\u001b[0m\u001b[0m\n\u001b[0;32m---> 14\u001b[0;31m \u001b[0mmy_tuple\u001b[0m\u001b[0;34m\u001b[0m\u001b[0;34m\u001b[0m\u001b[0m\n\u001b[0m",
            "\u001b[0;31mNameError\u001b[0m: name 'my_tuple' is not defined"
          ]
        }
      ]
    },
    {
      "cell_type": "code",
      "source": [],
      "metadata": {
        "id": "LASx6bW8BYCU"
      },
      "execution_count": null,
      "outputs": []
    }
  ]
}